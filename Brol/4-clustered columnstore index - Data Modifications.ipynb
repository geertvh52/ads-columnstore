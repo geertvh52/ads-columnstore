{
    "metadata": {
        "kernelspec": {
            "name": "SQL",
            "display_name": "SQL",
            "language": "sql"
        },
        "language_info": {
            "name": "sql",
            "version": ""
        },
        "extensions": {
            "azuredatastudio": {
                "version": 1,
                "views": []
            }
        }
    },
    "nbformat_minor": 2,
    "nbformat": 4,
    "cells": [
        {
            "cell_type": "markdown",
            "source": [
                "Data\\_Modifications"
            ],
            "metadata": {
                "azdata_cell_guid": "bb9846f4-84a7-4ddd-b566-f158d5e23362"
            },
            "attachments": {}
        },
        {
            "cell_type": "code",
            "source": [
                "-- Let's checkout our rowgroups.\r\n",
                "SELECT  object_name(i.object_id) AS TableName,   \r\n",
                "\t\ti.name AS IndexName,   \r\n",
                "\t\ti.type_desc AS IndexType,   \r\n",
                "\t\trg.state_desc AS StateDescription,\r\n",
                "\t\trg.total_rows AS TotalRows,\r\n",
                "\t\trg.deleted_rows AS DeletedRows,\r\n",
                "\t\trg.trim_reason_desc AS TrimReason\r\n",
                "FROM [sys].[indexes] AS i  \r\n",
                "JOIN [sys].[dm_db_column_store_row_group_physical_stats] AS rg  \r\n",
                "    ON i.object_id = rg.object_id AND i.index_id = rg.index_id\r\n",
                "\tWHERE i.name = 'pcci1';\r\n",
                "GO\r\n",
                "\r\n",
                ""
            ],
            "metadata": {
                "azdata_cell_guid": "04a06874-e33d-4934-b516-0c14ddfa471a",
                "tags": [
                    "hide_input"
                ]
            },
            "outputs": [],
            "execution_count": null
        },
        {
            "cell_type": "code",
            "source": [
                "-- Let's insert some data.\r\n",
                "INSERT INTO Sales.SalesOrder_PCS \r\n",
                "SELECT TOP 500\t*\r\n",
                "FROM Sales.SalesOrder_CS;\r\n",
                "GO\r\n",
                ""
            ],
            "metadata": {
                "azdata_cell_guid": "4810c259-b234-4965-b235-fa977e2c2c3d",
                "tags": [
                    "hide_input"
                ]
            },
            "outputs": [],
            "execution_count": null
        },
        {
            "cell_type": "code",
            "source": [
                "-- Let's checkout our rowgroups.\r\n",
                "SELECT  object_name(i.object_id) AS TableName,   \r\n",
                "\t\ti.name AS IndexName,   \r\n",
                "\t\ti.type_desc AS IndexType,   \r\n",
                "\t\trg.state_desc AS StateDescription,\r\n",
                "\t\trg.total_rows AS TotalRows,\r\n",
                "\t\trg.deleted_rows AS DeletedRows,\r\n",
                "\t\trg.trim_reason_desc AS TrimReason\r\n",
                "FROM [sys].[indexes] AS i  \r\n",
                "JOIN [sys].[dm_db_column_store_row_group_physical_stats] AS rg  \r\n",
                "    ON i.object_id = rg.object_id AND i.index_id = rg.index_id\r\n",
                "\tWHERE i.name = 'pcci1';\r\n",
                "GO\r\n",
                ""
            ],
            "metadata": {
                "azdata_cell_guid": "07292203-5a5b-4015-bcca-46a129cf8736",
                "tags": [
                    "hide_input"
                ]
            },
            "outputs": [],
            "execution_count": null
        },
        {
            "cell_type": "code",
            "source": [
                "-- Now let's update some data.\r\n",
                "--select top 10 * from Sales.SalesOrder_PCS\r\n",
                "\r\n",
                "UPDATE Sales.SalesOrder_PCS SET SalesAmount = SalesAmount + 1\r\n",
                "WHERE Id <= 500;\r\n",
                "GO"
            ],
            "metadata": {
                "azdata_cell_guid": "ed6d5eb7-a7e9-42a9-aad8-8921ea645fc2",
                "tags": [
                    "hide_input"
                ]
            },
            "outputs": [],
            "execution_count": null
        },
        {
            "cell_type": "code",
            "source": [
                "-- Let's checkout our rowgroups.\r\n",
                "SELECT  object_name(i.object_id) AS TableName,   \r\n",
                "\t\ti.name AS IndexName,   \r\n",
                "\t\ti.type_desc AS IndexType,   \r\n",
                "\t\trg.state_desc AS StateDescription,\r\n",
                "\t\trg.total_rows AS TotalRows,\r\n",
                "\t\trg.deleted_rows AS DeletedRows,\r\n",
                "\t\trg.trim_reason_desc AS TrimReason\r\n",
                "FROM [sys].[indexes] AS i  \r\n",
                "JOIN [sys].[dm_db_column_store_row_group_physical_stats] AS rg  \r\n",
                "    ON i.object_id = rg.object_id AND i.index_id = rg.index_id\r\n",
                "\tWHERE i.name = 'pcci1';\r\n",
                "GO"
            ],
            "metadata": {
                "azdata_cell_guid": "df997495-a627-47d7-a8c4-1fe860bec57b",
                "tags": [
                    "hide_input"
                ]
            },
            "outputs": [],
            "execution_count": null
        },
        {
            "cell_type": "code",
            "source": [
                "-- Let's find out or min and max Id.\r\n",
                "SELECT\tMAX(Id) AS MaxId, \r\n",
                "\t\tMIN(Id) AS MinId \r\n",
                "FROM Sales.SalesOrder_PCS;\r\n",
                "GO\r\n",
                "\r\n",
                "\r\n",
                "\r\n",
                "\r\n",
                "-- This will delete 1000 rows.\r\n",
                "-- 500 will come from the delta store.\r\n",
                "-- 500 will be marked as deleted\r\n",
                "DELETE FROM Sales.SalesOrder_PCS\r\n",
                "WHERE Id > 23800000;\r\n",
                "GO"
            ],
            "metadata": {
                "azdata_cell_guid": "711a76a2-e516-459f-9e14-1224e6ab3063",
                "tags": [
                    "hide_input"
                ]
            },
            "outputs": [],
            "execution_count": null
        },
        {
            "cell_type": "code",
            "source": [
                "-- Let's look at the deleted buffer.\r\n",
                "SELECT  object_name(i.object_id) AS TableName,\r\n",
                "\t\ti.[name] AS IndexName, \r\n",
                "\t\tp.[internal_object_type_desc] AS [Description],\r\n",
                "\t\tp.[rows] AS [RowCount], \r\n",
                "\t\tp.[data_compression_desc] AS [CompressionType]\r\n",
                "FROM [sys].[internal_partitions] AS p\r\n",
                "\tJOIN [sys].[indexes] AS i ON p.[object_id] = i.[object_id] \r\n",
                "\tAND p.[index_id] = i.[index_id]\r\n",
                "WHERE i.[name] = 'pcci1';\r\n",
                "GO"
            ],
            "metadata": {
                "azdata_cell_guid": "f3ff2edb-0fef-4eef-8d39-603173c8ce59",
                "tags": [
                    "hide_input"
                ]
            },
            "outputs": [],
            "execution_count": null
        }
    ]
}