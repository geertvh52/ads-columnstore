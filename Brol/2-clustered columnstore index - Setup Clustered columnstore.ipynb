{
    "metadata": {
        "kernelspec": {
            "name": "SQL",
            "display_name": "SQL",
            "language": "sql"
        },
        "language_info": {
            "name": "sql",
            "version": ""
        },
        "extensions": {
            "azuredatastudio": {
                "version": 1,
                "views": []
            }
        }
    },
    "nbformat_minor": 2,
    "nbformat": 4,
    "cells": [
        {
            "cell_type": "markdown",
            "source": [
                "Testdata"
            ],
            "metadata": {
                "azdata_cell_guid": "ca4107b8-87f7-4327-9aa5-50ded7debc96"
            },
            "attachments": {}
        },
        {
            "cell_type": "code",
            "source": [
                "-- create testtables and indexes\r\n",
                "USE [ABCCompany];\r\n",
                "GO\r\n",
                "\r\n",
                "SELECT * INTO [ABCCompany].[Sales].[SalesOrder_RS] FROM [ABCCompany].[Sales].[SalesOrder]\r\n",
                "SELECT * INTO [ABCCompany].[Sales].[SalesOrder_CS] FROM [ABCCompany].[Sales].[SalesOrder]\r\n",
                "\r\n",
                "CREATE UNIQUE CLUSTERED INDEX ci1 ON [ABCCompany].[Sales].[SalesOrder_RS] ([Id]);  \r\n",
                "GO\r\n",
                "\r\n",
                "CREATE CLUSTERED COLUMNSTORE INDEX cci1 ON [ABCCompany].[Sales].[SalesOrder_CS] WITH (MAXDOP = 1); \r\n",
                "GO"
            ],
            "metadata": {
                "azdata_cell_guid": "f730c947-35d9-46ea-86ce-f45f475495ba",
                "tags": []
            },
            "outputs": [],
            "execution_count": null
        },
        {
            "cell_type": "markdown",
            "source": [
                "Check columnstore metadata"
            ],
            "metadata": {
                "azdata_cell_guid": "c137ecc8-7fe6-4d87-bc2b-8de37ca541f5"
            },
            "attachments": {}
        },
        {
            "cell_type": "code",
            "source": [
                "-- Let's look at the deleted buffer.\r\n",
                "SELECT  object_name(i.object_id) AS TableName,\r\n",
                "\t\ti.[name] AS IndexName, \r\n",
                "\t\tp.[internal_object_type_desc] AS [Description],\r\n",
                "\t\tp.[rows] AS [RowCount], \r\n",
                "\t\tp.[data_compression_desc] AS [CompressionType]\r\n",
                "FROM [sys].[internal_partitions] AS p\r\n",
                "INNER JOIN [sys].[indexes] AS i ON p.[object_id] = i.[object_id] \r\n",
                "\tAND p.[index_id] = i.[index_id]\r\n",
                "WHERE i.[name] = 'pcci1';\r\n",
                "GO\r\n",
                "\r\n",
                "\r\n",
                "\r\n",
                "\r\n",
                "-- Let's checkout our rowgroups.\r\n",
                "SELECT  object_name(i.object_id) AS TableName,   \r\n",
                "\t\ti.name AS IndexName,   \r\n",
                "\t\ti.type_desc AS IndexType,   \r\n",
                "\t\trg.state_desc AS StateDescription,\r\n",
                "\t\trg.total_rows AS TotalRows,\r\n",
                "\t\trg.deleted_rows AS DeletedRows,\r\n",
                "\t\t100*(ISNULL(deleted_rows,0))/NULLIF(total_rows,0) AS Fragmented,\r\n",
                "\t\trg.trim_reason_desc AS TrimReason\r\n",
                "FROM [sys].[indexes] AS i  \r\n",
                "JOIN [sys].[dm_db_column_store_row_group_physical_stats] AS rg  \r\n",
                "    ON i.object_id = rg.object_id AND i.index_id = rg.index_id\r\n",
                "\tWHERE i.name = 'pcci1';\r\n",
                "GO"
            ],
            "metadata": {
                "azdata_cell_guid": "d2651603-fe9e-4c12-8fbe-dd585cdc4a0f"
            },
            "outputs": [
                {
                    "output_type": "display_data",
                    "data": {
                        "text/html": "(11 rows affected)"
                    },
                    "metadata": {}
                },
                {
                    "output_type": "display_data",
                    "data": {
                        "text/html": "(59 rows affected)"
                    },
                    "metadata": {}
                },
                {
                    "output_type": "display_data",
                    "data": {
                        "text/html": "Total execution time: 00:00:00.027"
                    },
                    "metadata": {}
                },
                {
                    "output_type": "execute_result",
                    "metadata": {},
                    "execution_count": 2,
                    "data": {
                        "application/vnd.dataresource+json": {
                            "schema": {
                                "fields": [
                                    {
                                        "name": "TableName"
                                    },
                                    {
                                        "name": "IndexName"
                                    },
                                    {
                                        "name": "Description"
                                    },
                                    {
                                        "name": "RowCount"
                                    },
                                    {
                                        "name": "CompressionType"
                                    }
                                ]
                            },
                            "data": [
                                {
                                    "0": "SalesOrder_PCS",
                                    "1": "pcci1",
                                    "2": "COLUMN_STORE_DELETE_BITMAP",
                                    "3": "0",
                                    "4": "PAGE"
                                },
                                {
                                    "0": "SalesOrder_PCS",
                                    "1": "pcci1",
                                    "2": "COLUMN_STORE_DELETE_BITMAP",
                                    "3": "0",
                                    "4": "PAGE"
                                },
                                {
                                    "0": "SalesOrder_PCS",
                                    "1": "pcci1",
                                    "2": "COLUMN_STORE_DELETE_BITMAP",
                                    "3": "0",
                                    "4": "PAGE"
                                },
                                {
                                    "0": "SalesOrder_PCS",
                                    "1": "pcci1",
                                    "2": "COLUMN_STORE_DELETE_BITMAP",
                                    "3": "114",
                                    "4": "PAGE"
                                },
                                {
                                    "0": "SalesOrder_PCS",
                                    "1": "pcci1",
                                    "2": "COLUMN_STORE_DELETE_BITMAP",
                                    "3": "287962",
                                    "4": "PAGE"
                                },
                                {
                                    "0": "SalesOrder_PCS",
                                    "1": "pcci1",
                                    "2": "COLUMN_STORE_DELETE_BITMAP",
                                    "3": "0",
                                    "4": "PAGE"
                                },
                                {
                                    "0": "SalesOrder_PCS",
                                    "1": "pcci1",
                                    "2": "COLUMN_STORE_DELTA_STORE",
                                    "3": "878193",
                                    "4": "NONE"
                                },
                                {
                                    "0": "SalesOrder_PCS",
                                    "1": "pcci1",
                                    "2": "COLUMN_STORE_DELTA_STORE",
                                    "3": "114",
                                    "4": "NONE"
                                },
                                {
                                    "0": "SalesOrder_PCS",
                                    "1": "pcci1",
                                    "2": "COLUMN_STORE_DELTA_STORE",
                                    "3": "125",
                                    "4": "NONE"
                                },
                                {
                                    "0": "SalesOrder_PCS",
                                    "1": "pcci1",
                                    "2": "COLUMN_STORE_DELTA_STORE",
                                    "3": "114",
                                    "4": "NONE"
                                },
                                {
                                    "0": "SalesOrder_PCS",
                                    "1": "pcci1",
                                    "2": "COLUMN_STORE_DELTA_STORE",
                                    "3": "122",
                                    "4": "NONE"
                                }
                            ]
                        },
                        "text/html": [
                            "<table>",
                            "<tr><th>TableName</th><th>IndexName</th><th>Description</th><th>RowCount</th><th>CompressionType</th></tr>",
                            "<tr><td>SalesOrder_PCS</td><td>pcci1</td><td>COLUMN_STORE_DELETE_BITMAP</td><td>0</td><td>PAGE</td></tr>",
                            "<tr><td>SalesOrder_PCS</td><td>pcci1</td><td>COLUMN_STORE_DELETE_BITMAP</td><td>0</td><td>PAGE</td></tr>",
                            "<tr><td>SalesOrder_PCS</td><td>pcci1</td><td>COLUMN_STORE_DELETE_BITMAP</td><td>0</td><td>PAGE</td></tr>",
                            "<tr><td>SalesOrder_PCS</td><td>pcci1</td><td>COLUMN_STORE_DELETE_BITMAP</td><td>114</td><td>PAGE</td></tr>",
                            "<tr><td>SalesOrder_PCS</td><td>pcci1</td><td>COLUMN_STORE_DELETE_BITMAP</td><td>287962</td><td>PAGE</td></tr>",
                            "<tr><td>SalesOrder_PCS</td><td>pcci1</td><td>COLUMN_STORE_DELETE_BITMAP</td><td>0</td><td>PAGE</td></tr>",
                            "<tr><td>SalesOrder_PCS</td><td>pcci1</td><td>COLUMN_STORE_DELTA_STORE</td><td>878193</td><td>NONE</td></tr>",
                            "<tr><td>SalesOrder_PCS</td><td>pcci1</td><td>COLUMN_STORE_DELTA_STORE</td><td>114</td><td>NONE</td></tr>",
                            "<tr><td>SalesOrder_PCS</td><td>pcci1</td><td>COLUMN_STORE_DELTA_STORE</td><td>125</td><td>NONE</td></tr>",
                            "<tr><td>SalesOrder_PCS</td><td>pcci1</td><td>COLUMN_STORE_DELTA_STORE</td><td>114</td><td>NONE</td></tr>",
                            "<tr><td>SalesOrder_PCS</td><td>pcci1</td><td>COLUMN_STORE_DELTA_STORE</td><td>122</td><td>NONE</td></tr>",
                            "</table>"
                        ]
                    }
                },
                {
                    "output_type": "execute_result",
                    "metadata": {},
                    "execution_count": 2,
                    "data": {
                        "application/vnd.dataresource+json": {
                            "schema": {
                                "fields": [
                                    {
                                        "name": "TableName"
                                    },
                                    {
                                        "name": "IndexName"
                                    },
                                    {
                                        "name": "IndexType"
                                    },
                                    {
                                        "name": "StateDescription"
                                    },
                                    {
                                        "name": "TotalRows"
                                    },
                                    {
                                        "name": "DeletedRows"
                                    },
                                    {
                                        "name": "Fragmented"
                                    },
                                    {
                                        "name": "TrimReason"
                                    }
                                ]
                            },
                            "data": [
                                {
                                    "0": "SalesOrder_PCS",
                                    "1": "pcci1",
                                    "2": "CLUSTERED COLUMNSTORE",
                                    "3": "COMPRESSED",
                                    "4": "656664",
                                    "5": "0",
                                    "6": "0",
                                    "7": "REORG"
                                },
                                {
                                    "0": "SalesOrder_PCS",
                                    "1": "pcci1",
                                    "2": "CLUSTERED COLUMNSTORE",
                                    "3": "COMPRESSED",
                                    "4": "825804",
                                    "5": "0",
                                    "6": "0",
                                    "7": "REORG"
                                },
                                {
                                    "0": "SalesOrder_PCS",
                                    "1": "pcci1",
                                    "2": "CLUSTERED COLUMNSTORE",
                                    "3": "COMPRESSED",
                                    "4": "827403",
                                    "5": "0",
                                    "6": "0",
                                    "7": "REORG"
                                },
                                {
                                    "0": "SalesOrder_PCS",
                                    "1": "pcci1",
                                    "2": "CLUSTERED COLUMNSTORE",
                                    "3": "COMPRESSED",
                                    "4": "827487",
                                    "5": "0",
                                    "6": "0",
                                    "7": "REORG"
                                },
                                {
                                    "0": "SalesOrder_PCS",
                                    "1": "pcci1",
                                    "2": "CLUSTERED COLUMNSTORE",
                                    "3": "COMPRESSED",
                                    "4": "827510",
                                    "5": "0",
                                    "6": "0",
                                    "7": "REORG"
                                },
                                {
                                    "0": "SalesOrder_PCS",
                                    "1": "pcci1",
                                    "2": "CLUSTERED COLUMNSTORE",
                                    "3": "COMPRESSED",
                                    "4": "827556",
                                    "5": "0",
                                    "6": "0",
                                    "7": "REORG"
                                },
                                {
                                    "0": "SalesOrder_PCS",
                                    "1": "pcci1",
                                    "2": "CLUSTERED COLUMNSTORE",
                                    "3": "COMPRESSED",
                                    "4": "950757",
                                    "5": "0",
                                    "6": "0",
                                    "7": "REORG"
                                },
                                {
                                    "0": "SalesOrder_PCS",
                                    "1": "pcci1",
                                    "2": "CLUSTERED COLUMNSTORE",
                                    "3": "OPEN",
                                    "4": "114",
                                    "5": "0",
                                    "6": "0",
                                    "7": "NULL"
                                },
                                {
                                    "0": "SalesOrder_PCS",
                                    "1": "pcci1",
                                    "2": "CLUSTERED COLUMNSTORE",
                                    "3": "COMPRESSED",
                                    "4": "654610",
                                    "5": "0",
                                    "6": "0",
                                    "7": "REORG"
                                },
                                {
                                    "0": "SalesOrder_PCS",
                                    "1": "pcci1",
                                    "2": "CLUSTERED COLUMNSTORE",
                                    "3": "COMPRESSED",
                                    "4": "824254",
                                    "5": "0",
                                    "6": "0",
                                    "7": "REORG"
                                },
                                {
                                    "0": "SalesOrder_PCS",
                                    "1": "pcci1",
                                    "2": "CLUSTERED COLUMNSTORE",
                                    "3": "COMPRESSED",
                                    "4": "824964",
                                    "5": "0",
                                    "6": "0",
                                    "7": "REORG"
                                },
                                {
                                    "0": "SalesOrder_PCS",
                                    "1": "pcci1",
                                    "2": "CLUSTERED COLUMNSTORE",
                                    "3": "COMPRESSED",
                                    "4": "825073",
                                    "5": "0",
                                    "6": "0",
                                    "7": "REORG"
                                },
                                {
                                    "0": "SalesOrder_PCS",
                                    "1": "pcci1",
                                    "2": "CLUSTERED COLUMNSTORE",
                                    "3": "COMPRESSED",
                                    "4": "825521",
                                    "5": "0",
                                    "6": "0",
                                    "7": "REORG"
                                },
                                {
                                    "0": "SalesOrder_PCS",
                                    "1": "pcci1",
                                    "2": "CLUSTERED COLUMNSTORE",
                                    "3": "COMPRESSED",
                                    "4": "826872",
                                    "5": "0",
                                    "6": "0",
                                    "7": "REORG"
                                },
                                {
                                    "0": "SalesOrder_PCS",
                                    "1": "pcci1",
                                    "2": "CLUSTERED COLUMNSTORE",
                                    "3": "COMPRESSED",
                                    "4": "949487",
                                    "5": "0",
                                    "6": "0",
                                    "7": "REORG"
                                },
                                {
                                    "0": "SalesOrder_PCS",
                                    "1": "pcci1",
                                    "2": "CLUSTERED COLUMNSTORE",
                                    "3": "OPEN",
                                    "4": "125",
                                    "5": "0",
                                    "6": "0",
                                    "7": "NULL"
                                },
                                {
                                    "0": "SalesOrder_PCS",
                                    "1": "pcci1",
                                    "2": "CLUSTERED COLUMNSTORE",
                                    "3": "COMPRESSED",
                                    "4": "654342",
                                    "5": "0",
                                    "6": "0",
                                    "7": "REORG"
                                },
                                {
                                    "0": "SalesOrder_PCS",
                                    "1": "pcci1",
                                    "2": "CLUSTERED COLUMNSTORE",
                                    "3": "COMPRESSED",
                                    "4": "823462",
                                    "5": "0",
                                    "6": "0",
                                    "7": "REORG"
                                },
                                {
                                    "0": "SalesOrder_PCS",
                                    "1": "pcci1",
                                    "2": "CLUSTERED COLUMNSTORE",
                                    "3": "COMPRESSED",
                                    "4": "823773",
                                    "5": "0",
                                    "6": "0",
                                    "7": "REORG"
                                },
                                {
                                    "0": "SalesOrder_PCS",
                                    "1": "pcci1",
                                    "2": "CLUSTERED COLUMNSTORE",
                                    "3": "COMPRESSED",
                                    "4": "824731",
                                    "5": "0",
                                    "6": "0",
                                    "7": "REORG"
                                },
                                {
                                    "0": "SalesOrder_PCS",
                                    "1": "pcci1",
                                    "2": "CLUSTERED COLUMNSTORE",
                                    "3": "COMPRESSED",
                                    "4": "824750",
                                    "5": "0",
                                    "6": "0",
                                    "7": "REORG"
                                },
                                {
                                    "0": "SalesOrder_PCS",
                                    "1": "pcci1",
                                    "2": "CLUSTERED COLUMNSTORE",
                                    "3": "COMPRESSED",
                                    "4": "825660",
                                    "5": "0",
                                    "6": "0",
                                    "7": "REORG"
                                },
                                {
                                    "0": "SalesOrder_PCS",
                                    "1": "pcci1",
                                    "2": "CLUSTERED COLUMNSTORE",
                                    "3": "COMPRESSED",
                                    "4": "947721",
                                    "5": "0",
                                    "6": "0",
                                    "7": "REORG"
                                },
                                {
                                    "0": "SalesOrder_PCS",
                                    "1": "pcci1",
                                    "2": "CLUSTERED COLUMNSTORE",
                                    "3": "OPEN",
                                    "4": "114",
                                    "5": "0",
                                    "6": "0",
                                    "7": "NULL"
                                },
                                {
                                    "0": "SalesOrder_PCS",
                                    "1": "pcci1",
                                    "2": "CLUSTERED COLUMNSTORE",
                                    "3": "TOMBSTONE",
                                    "4": "241601",
                                    "5": "114",
                                    "6": "0",
                                    "7": "NULL"
                                },
                                {
                                    "0": "SalesOrder_PCS",
                                    "1": "pcci1",
                                    "2": "CLUSTERED COLUMNSTORE",
                                    "3": "TOMBSTONE",
                                    "4": "412855",
                                    "5": "0",
                                    "6": "0",
                                    "7": "NULL"
                                },
                                {
                                    "0": "SalesOrder_PCS",
                                    "1": "pcci1",
                                    "2": "CLUSTERED COLUMNSTORE",
                                    "3": "TOMBSTONE",
                                    "4": "411692",
                                    "5": "0",
                                    "6": "0",
                                    "7": "NULL"
                                },
                                {
                                    "0": "SalesOrder_PCS",
                                    "1": "pcci1",
                                    "2": "CLUSTERED COLUMNSTORE",
                                    "3": "TOMBSTONE",
                                    "4": "411770",
                                    "5": "0",
                                    "6": "0",
                                    "7": "NULL"
                                },
                                {
                                    "0": "SalesOrder_PCS",
                                    "1": "pcci1",
                                    "2": "CLUSTERED COLUMNSTORE",
                                    "3": "TOMBSTONE",
                                    "4": "411609",
                                    "5": "0",
                                    "6": "0",
                                    "7": "NULL"
                                },
                                {
                                    "0": "SalesOrder_PCS",
                                    "1": "pcci1",
                                    "2": "CLUSTERED COLUMNSTORE",
                                    "3": "TOMBSTONE",
                                    "4": "413141",
                                    "5": "0",
                                    "6": "0",
                                    "7": "NULL"
                                },
                                {
                                    "0": "SalesOrder_PCS",
                                    "1": "pcci1",
                                    "2": "CLUSTERED COLUMNSTORE",
                                    "3": "TOMBSTONE",
                                    "4": "411766",
                                    "5": "0",
                                    "6": "0",
                                    "7": "NULL"
                                },
                                {
                                    "0": "SalesOrder_PCS",
                                    "1": "pcci1",
                                    "2": "CLUSTERED COLUMNSTORE",
                                    "3": "TOMBSTONE",
                                    "4": "412007",
                                    "5": "0",
                                    "6": "0",
                                    "7": "NULL"
                                },
                                {
                                    "0": "SalesOrder_PCS",
                                    "1": "pcci1",
                                    "2": "CLUSTERED COLUMNSTORE",
                                    "3": "TOMBSTONE",
                                    "4": "412100",
                                    "5": "0",
                                    "6": "0",
                                    "7": "NULL"
                                },
                                {
                                    "0": "SalesOrder_PCS",
                                    "1": "pcci1",
                                    "2": "CLUSTERED COLUMNSTORE",
                                    "3": "TOMBSTONE",
                                    "4": "413560",
                                    "5": "0",
                                    "6": "0",
                                    "7": "NULL"
                                },
                                {
                                    "0": "SalesOrder_PCS",
                                    "1": "pcci1",
                                    "2": "CLUSTERED COLUMNSTORE",
                                    "3": "TOMBSTONE",
                                    "4": "411947",
                                    "5": "0",
                                    "6": "0",
                                    "7": "NULL"
                                },
                                {
                                    "0": "SalesOrder_PCS",
                                    "1": "pcci1",
                                    "2": "CLUSTERED COLUMNSTORE",
                                    "3": "COMPRESSED",
                                    "4": "654229",
                                    "5": "0",
                                    "6": "0",
                                    "7": "REORG"
                                },
                                {
                                    "0": "SalesOrder_PCS",
                                    "1": "pcci1",
                                    "2": "CLUSTERED COLUMNSTORE",
                                    "3": "COMPRESSED",
                                    "4": "823954",
                                    "5": "0",
                                    "6": "0",
                                    "7": "REORG"
                                },
                                {
                                    "0": "SalesOrder_PCS",
                                    "1": "pcci1",
                                    "2": "CLUSTERED COLUMNSTORE",
                                    "3": "COMPRESSED",
                                    "4": "824074",
                                    "5": "0",
                                    "6": "0",
                                    "7": "REORG"
                                },
                                {
                                    "0": "SalesOrder_PCS",
                                    "1": "pcci1",
                                    "2": "CLUSTERED COLUMNSTORE",
                                    "3": "COMPRESSED",
                                    "4": "824105",
                                    "5": "0",
                                    "6": "0",
                                    "7": "REORG"
                                },
                                {
                                    "0": "SalesOrder_PCS",
                                    "1": "pcci1",
                                    "2": "CLUSTERED COLUMNSTORE",
                                    "3": "COMPRESSED",
                                    "4": "824272",
                                    "5": "0",
                                    "6": "0",
                                    "7": "REORG"
                                },
                                {
                                    "0": "SalesOrder_PCS",
                                    "1": "pcci1",
                                    "2": "CLUSTERED COLUMNSTORE",
                                    "3": "COMPRESSED",
                                    "4": "824750",
                                    "5": "0",
                                    "6": "0",
                                    "7": "REORG"
                                },
                                {
                                    "0": "SalesOrder_PCS",
                                    "1": "pcci1",
                                    "2": "CLUSTERED COLUMNSTORE",
                                    "3": "COMPRESSED",
                                    "4": "947547",
                                    "5": "0",
                                    "6": "0",
                                    "7": "REORG"
                                },
                                {
                                    "0": "SalesOrder_PCS",
                                    "1": "pcci1",
                                    "2": "CLUSTERED COLUMNSTORE",
                                    "3": "OPEN",
                                    "4": "122",
                                    "5": "0",
                                    "6": "0",
                                    "7": "NULL"
                                },
                                {
                                    "0": "SalesOrder_PCS",
                                    "1": "pcci1",
                                    "2": "CLUSTERED COLUMNSTORE",
                                    "3": "TOMBSTONE",
                                    "4": "242849",
                                    "5": "122",
                                    "6": "0",
                                    "7": "NULL"
                                },
                                {
                                    "0": "SalesOrder_PCS",
                                    "1": "pcci1",
                                    "2": "CLUSTERED COLUMNSTORE",
                                    "3": "TOMBSTONE",
                                    "4": "411502",
                                    "5": "0",
                                    "6": "0",
                                    "7": "NULL"
                                },
                                {
                                    "0": "SalesOrder_PCS",
                                    "1": "pcci1",
                                    "2": "CLUSTERED COLUMNSTORE",
                                    "3": "TOMBSTONE",
                                    "4": "412129",
                                    "5": "0",
                                    "6": "0",
                                    "7": "NULL"
                                },
                                {
                                    "0": "SalesOrder_PCS",
                                    "1": "pcci1",
                                    "2": "CLUSTERED COLUMNSTORE",
                                    "3": "TOMBSTONE",
                                    "4": "411976",
                                    "5": "0",
                                    "6": "0",
                                    "7": "NULL"
                                },
                                {
                                    "0": "SalesOrder_PCS",
                                    "1": "pcci1",
                                    "2": "CLUSTERED COLUMNSTORE",
                                    "3": "TOMBSTONE",
                                    "4": "412316",
                                    "5": "0",
                                    "6": "0",
                                    "7": "NULL"
                                },
                                {
                                    "0": "SalesOrder_PCS",
                                    "1": "pcci1",
                                    "2": "CLUSTERED COLUMNSTORE",
                                    "3": "TOMBSTONE",
                                    "4": "412434",
                                    "5": "0",
                                    "6": "0",
                                    "7": "NULL"
                                },
                                {
                                    "0": "SalesOrder_PCS",
                                    "1": "pcci1",
                                    "2": "CLUSTERED COLUMNSTORE",
                                    "3": "TOMBSTONE",
                                    "4": "412702",
                                    "5": "0",
                                    "6": "0",
                                    "7": "NULL"
                                },
                                {
                                    "0": "SalesOrder_PCS",
                                    "1": "pcci1",
                                    "2": "CLUSTERED COLUMNSTORE",
                                    "3": "TOMBSTONE",
                                    "4": "411570",
                                    "5": "0",
                                    "6": "0",
                                    "7": "NULL"
                                },
                                {
                                    "0": "SalesOrder_PCS",
                                    "1": "pcci1",
                                    "2": "CLUSTERED COLUMNSTORE",
                                    "3": "TOMBSTONE",
                                    "4": "412258",
                                    "5": "0",
                                    "6": "0",
                                    "7": "NULL"
                                },
                                {
                                    "0": "SalesOrder_PCS",
                                    "1": "pcci1",
                                    "2": "CLUSTERED COLUMNSTORE",
                                    "3": "TOMBSTONE",
                                    "4": "411816",
                                    "5": "0",
                                    "6": "0",
                                    "7": "NULL"
                                },
                                {
                                    "0": "SalesOrder_PCS",
                                    "1": "pcci1",
                                    "2": "CLUSTERED COLUMNSTORE",
                                    "3": "TOMBSTONE",
                                    "4": "412510",
                                    "5": "0",
                                    "6": "0",
                                    "7": "NULL"
                                },
                                {
                                    "0": "SalesOrder_PCS",
                                    "1": "pcci1",
                                    "2": "CLUSTERED COLUMNSTORE",
                                    "3": "TOMBSTONE",
                                    "4": "411444",
                                    "5": "0",
                                    "6": "0",
                                    "7": "NULL"
                                },
                                {
                                    "0": "SalesOrder_PCS",
                                    "1": "pcci1",
                                    "2": "CLUSTERED COLUMNSTORE",
                                    "3": "TOMBSTONE",
                                    "4": "412013",
                                    "5": "0",
                                    "6": "0",
                                    "7": "NULL"
                                },
                                {
                                    "0": "SalesOrder_PCS",
                                    "1": "pcci1",
                                    "2": "CLUSTERED COLUMNSTORE",
                                    "3": "TOMBSTONE",
                                    "4": "412047",
                                    "5": "58805",
                                    "6": "14",
                                    "7": "NULL"
                                },
                                {
                                    "0": "SalesOrder_PCS",
                                    "1": "pcci1",
                                    "2": "CLUSTERED COLUMNSTORE",
                                    "3": "TOMBSTONE",
                                    "4": "411327",
                                    "5": "229035",
                                    "6": "55",
                                    "7": "NULL"
                                },
                                {
                                    "0": "SalesOrder_PCS",
                                    "1": "pcci1",
                                    "2": "CLUSTERED COLUMNSTORE",
                                    "3": "OPEN",
                                    "4": "878193",
                                    "5": "0",
                                    "6": "0",
                                    "7": "NULL"
                                }
                            ]
                        },
                        "text/html": [
                            "<table>",
                            "<tr><th>TableName</th><th>IndexName</th><th>IndexType</th><th>StateDescription</th><th>TotalRows</th><th>DeletedRows</th><th>Fragmented</th><th>TrimReason</th></tr>",
                            "<tr><td>SalesOrder_PCS</td><td>pcci1</td><td>CLUSTERED COLUMNSTORE</td><td>COMPRESSED</td><td>656664</td><td>0</td><td>0</td><td>REORG</td></tr>",
                            "<tr><td>SalesOrder_PCS</td><td>pcci1</td><td>CLUSTERED COLUMNSTORE</td><td>COMPRESSED</td><td>825804</td><td>0</td><td>0</td><td>REORG</td></tr>",
                            "<tr><td>SalesOrder_PCS</td><td>pcci1</td><td>CLUSTERED COLUMNSTORE</td><td>COMPRESSED</td><td>827403</td><td>0</td><td>0</td><td>REORG</td></tr>",
                            "<tr><td>SalesOrder_PCS</td><td>pcci1</td><td>CLUSTERED COLUMNSTORE</td><td>COMPRESSED</td><td>827487</td><td>0</td><td>0</td><td>REORG</td></tr>",
                            "<tr><td>SalesOrder_PCS</td><td>pcci1</td><td>CLUSTERED COLUMNSTORE</td><td>COMPRESSED</td><td>827510</td><td>0</td><td>0</td><td>REORG</td></tr>",
                            "<tr><td>SalesOrder_PCS</td><td>pcci1</td><td>CLUSTERED COLUMNSTORE</td><td>COMPRESSED</td><td>827556</td><td>0</td><td>0</td><td>REORG</td></tr>",
                            "<tr><td>SalesOrder_PCS</td><td>pcci1</td><td>CLUSTERED COLUMNSTORE</td><td>COMPRESSED</td><td>950757</td><td>0</td><td>0</td><td>REORG</td></tr>",
                            "<tr><td>SalesOrder_PCS</td><td>pcci1</td><td>CLUSTERED COLUMNSTORE</td><td>OPEN</td><td>114</td><td>0</td><td>0</td><td>NULL</td></tr>",
                            "<tr><td>SalesOrder_PCS</td><td>pcci1</td><td>CLUSTERED COLUMNSTORE</td><td>COMPRESSED</td><td>654610</td><td>0</td><td>0</td><td>REORG</td></tr>",
                            "<tr><td>SalesOrder_PCS</td><td>pcci1</td><td>CLUSTERED COLUMNSTORE</td><td>COMPRESSED</td><td>824254</td><td>0</td><td>0</td><td>REORG</td></tr>",
                            "<tr><td>SalesOrder_PCS</td><td>pcci1</td><td>CLUSTERED COLUMNSTORE</td><td>COMPRESSED</td><td>824964</td><td>0</td><td>0</td><td>REORG</td></tr>",
                            "<tr><td>SalesOrder_PCS</td><td>pcci1</td><td>CLUSTERED COLUMNSTORE</td><td>COMPRESSED</td><td>825073</td><td>0</td><td>0</td><td>REORG</td></tr>",
                            "<tr><td>SalesOrder_PCS</td><td>pcci1</td><td>CLUSTERED COLUMNSTORE</td><td>COMPRESSED</td><td>825521</td><td>0</td><td>0</td><td>REORG</td></tr>",
                            "<tr><td>SalesOrder_PCS</td><td>pcci1</td><td>CLUSTERED COLUMNSTORE</td><td>COMPRESSED</td><td>826872</td><td>0</td><td>0</td><td>REORG</td></tr>",
                            "<tr><td>SalesOrder_PCS</td><td>pcci1</td><td>CLUSTERED COLUMNSTORE</td><td>COMPRESSED</td><td>949487</td><td>0</td><td>0</td><td>REORG</td></tr>",
                            "<tr><td>SalesOrder_PCS</td><td>pcci1</td><td>CLUSTERED COLUMNSTORE</td><td>OPEN</td><td>125</td><td>0</td><td>0</td><td>NULL</td></tr>",
                            "<tr><td>SalesOrder_PCS</td><td>pcci1</td><td>CLUSTERED COLUMNSTORE</td><td>COMPRESSED</td><td>654342</td><td>0</td><td>0</td><td>REORG</td></tr>",
                            "<tr><td>SalesOrder_PCS</td><td>pcci1</td><td>CLUSTERED COLUMNSTORE</td><td>COMPRESSED</td><td>823462</td><td>0</td><td>0</td><td>REORG</td></tr>",
                            "<tr><td>SalesOrder_PCS</td><td>pcci1</td><td>CLUSTERED COLUMNSTORE</td><td>COMPRESSED</td><td>823773</td><td>0</td><td>0</td><td>REORG</td></tr>",
                            "<tr><td>SalesOrder_PCS</td><td>pcci1</td><td>CLUSTERED COLUMNSTORE</td><td>COMPRESSED</td><td>824731</td><td>0</td><td>0</td><td>REORG</td></tr>",
                            "<tr><td>SalesOrder_PCS</td><td>pcci1</td><td>CLUSTERED COLUMNSTORE</td><td>COMPRESSED</td><td>824750</td><td>0</td><td>0</td><td>REORG</td></tr>",
                            "<tr><td>SalesOrder_PCS</td><td>pcci1</td><td>CLUSTERED COLUMNSTORE</td><td>COMPRESSED</td><td>825660</td><td>0</td><td>0</td><td>REORG</td></tr>",
                            "<tr><td>SalesOrder_PCS</td><td>pcci1</td><td>CLUSTERED COLUMNSTORE</td><td>COMPRESSED</td><td>947721</td><td>0</td><td>0</td><td>REORG</td></tr>",
                            "<tr><td>SalesOrder_PCS</td><td>pcci1</td><td>CLUSTERED COLUMNSTORE</td><td>OPEN</td><td>114</td><td>0</td><td>0</td><td>NULL</td></tr>",
                            "<tr><td>SalesOrder_PCS</td><td>pcci1</td><td>CLUSTERED COLUMNSTORE</td><td>TOMBSTONE</td><td>241601</td><td>114</td><td>0</td><td>NULL</td></tr>",
                            "<tr><td>SalesOrder_PCS</td><td>pcci1</td><td>CLUSTERED COLUMNSTORE</td><td>TOMBSTONE</td><td>412855</td><td>0</td><td>0</td><td>NULL</td></tr>",
                            "<tr><td>SalesOrder_PCS</td><td>pcci1</td><td>CLUSTERED COLUMNSTORE</td><td>TOMBSTONE</td><td>411692</td><td>0</td><td>0</td><td>NULL</td></tr>",
                            "<tr><td>SalesOrder_PCS</td><td>pcci1</td><td>CLUSTERED COLUMNSTORE</td><td>TOMBSTONE</td><td>411770</td><td>0</td><td>0</td><td>NULL</td></tr>",
                            "<tr><td>SalesOrder_PCS</td><td>pcci1</td><td>CLUSTERED COLUMNSTORE</td><td>TOMBSTONE</td><td>411609</td><td>0</td><td>0</td><td>NULL</td></tr>",
                            "<tr><td>SalesOrder_PCS</td><td>pcci1</td><td>CLUSTERED COLUMNSTORE</td><td>TOMBSTONE</td><td>413141</td><td>0</td><td>0</td><td>NULL</td></tr>",
                            "<tr><td>SalesOrder_PCS</td><td>pcci1</td><td>CLUSTERED COLUMNSTORE</td><td>TOMBSTONE</td><td>411766</td><td>0</td><td>0</td><td>NULL</td></tr>",
                            "<tr><td>SalesOrder_PCS</td><td>pcci1</td><td>CLUSTERED COLUMNSTORE</td><td>TOMBSTONE</td><td>412007</td><td>0</td><td>0</td><td>NULL</td></tr>",
                            "<tr><td>SalesOrder_PCS</td><td>pcci1</td><td>CLUSTERED COLUMNSTORE</td><td>TOMBSTONE</td><td>412100</td><td>0</td><td>0</td><td>NULL</td></tr>",
                            "<tr><td>SalesOrder_PCS</td><td>pcci1</td><td>CLUSTERED COLUMNSTORE</td><td>TOMBSTONE</td><td>413560</td><td>0</td><td>0</td><td>NULL</td></tr>",
                            "<tr><td>SalesOrder_PCS</td><td>pcci1</td><td>CLUSTERED COLUMNSTORE</td><td>TOMBSTONE</td><td>411947</td><td>0</td><td>0</td><td>NULL</td></tr>",
                            "<tr><td>SalesOrder_PCS</td><td>pcci1</td><td>CLUSTERED COLUMNSTORE</td><td>COMPRESSED</td><td>654229</td><td>0</td><td>0</td><td>REORG</td></tr>",
                            "<tr><td>SalesOrder_PCS</td><td>pcci1</td><td>CLUSTERED COLUMNSTORE</td><td>COMPRESSED</td><td>823954</td><td>0</td><td>0</td><td>REORG</td></tr>",
                            "<tr><td>SalesOrder_PCS</td><td>pcci1</td><td>CLUSTERED COLUMNSTORE</td><td>COMPRESSED</td><td>824074</td><td>0</td><td>0</td><td>REORG</td></tr>",
                            "<tr><td>SalesOrder_PCS</td><td>pcci1</td><td>CLUSTERED COLUMNSTORE</td><td>COMPRESSED</td><td>824105</td><td>0</td><td>0</td><td>REORG</td></tr>",
                            "<tr><td>SalesOrder_PCS</td><td>pcci1</td><td>CLUSTERED COLUMNSTORE</td><td>COMPRESSED</td><td>824272</td><td>0</td><td>0</td><td>REORG</td></tr>",
                            "<tr><td>SalesOrder_PCS</td><td>pcci1</td><td>CLUSTERED COLUMNSTORE</td><td>COMPRESSED</td><td>824750</td><td>0</td><td>0</td><td>REORG</td></tr>",
                            "<tr><td>SalesOrder_PCS</td><td>pcci1</td><td>CLUSTERED COLUMNSTORE</td><td>COMPRESSED</td><td>947547</td><td>0</td><td>0</td><td>REORG</td></tr>",
                            "<tr><td>SalesOrder_PCS</td><td>pcci1</td><td>CLUSTERED COLUMNSTORE</td><td>OPEN</td><td>122</td><td>0</td><td>0</td><td>NULL</td></tr>",
                            "<tr><td>SalesOrder_PCS</td><td>pcci1</td><td>CLUSTERED COLUMNSTORE</td><td>TOMBSTONE</td><td>242849</td><td>122</td><td>0</td><td>NULL</td></tr>",
                            "<tr><td>SalesOrder_PCS</td><td>pcci1</td><td>CLUSTERED COLUMNSTORE</td><td>TOMBSTONE</td><td>411502</td><td>0</td><td>0</td><td>NULL</td></tr>",
                            "<tr><td>SalesOrder_PCS</td><td>pcci1</td><td>CLUSTERED COLUMNSTORE</td><td>TOMBSTONE</td><td>412129</td><td>0</td><td>0</td><td>NULL</td></tr>",
                            "<tr><td>SalesOrder_PCS</td><td>pcci1</td><td>CLUSTERED COLUMNSTORE</td><td>TOMBSTONE</td><td>411976</td><td>0</td><td>0</td><td>NULL</td></tr>",
                            "<tr><td>SalesOrder_PCS</td><td>pcci1</td><td>CLUSTERED COLUMNSTORE</td><td>TOMBSTONE</td><td>412316</td><td>0</td><td>0</td><td>NULL</td></tr>",
                            "<tr><td>SalesOrder_PCS</td><td>pcci1</td><td>CLUSTERED COLUMNSTORE</td><td>TOMBSTONE</td><td>412434</td><td>0</td><td>0</td><td>NULL</td></tr>",
                            "<tr><td>SalesOrder_PCS</td><td>pcci1</td><td>CLUSTERED COLUMNSTORE</td><td>TOMBSTONE</td><td>412702</td><td>0</td><td>0</td><td>NULL</td></tr>",
                            "<tr><td>SalesOrder_PCS</td><td>pcci1</td><td>CLUSTERED COLUMNSTORE</td><td>TOMBSTONE</td><td>411570</td><td>0</td><td>0</td><td>NULL</td></tr>",
                            "<tr><td>SalesOrder_PCS</td><td>pcci1</td><td>CLUSTERED COLUMNSTORE</td><td>TOMBSTONE</td><td>412258</td><td>0</td><td>0</td><td>NULL</td></tr>",
                            "<tr><td>SalesOrder_PCS</td><td>pcci1</td><td>CLUSTERED COLUMNSTORE</td><td>TOMBSTONE</td><td>411816</td><td>0</td><td>0</td><td>NULL</td></tr>",
                            "<tr><td>SalesOrder_PCS</td><td>pcci1</td><td>CLUSTERED COLUMNSTORE</td><td>TOMBSTONE</td><td>412510</td><td>0</td><td>0</td><td>NULL</td></tr>",
                            "<tr><td>SalesOrder_PCS</td><td>pcci1</td><td>CLUSTERED COLUMNSTORE</td><td>TOMBSTONE</td><td>411444</td><td>0</td><td>0</td><td>NULL</td></tr>",
                            "<tr><td>SalesOrder_PCS</td><td>pcci1</td><td>CLUSTERED COLUMNSTORE</td><td>TOMBSTONE</td><td>412013</td><td>0</td><td>0</td><td>NULL</td></tr>",
                            "<tr><td>SalesOrder_PCS</td><td>pcci1</td><td>CLUSTERED COLUMNSTORE</td><td>TOMBSTONE</td><td>412047</td><td>58805</td><td>14</td><td>NULL</td></tr>",
                            "<tr><td>SalesOrder_PCS</td><td>pcci1</td><td>CLUSTERED COLUMNSTORE</td><td>TOMBSTONE</td><td>411327</td><td>229035</td><td>55</td><td>NULL</td></tr>",
                            "<tr><td>SalesOrder_PCS</td><td>pcci1</td><td>CLUSTERED COLUMNSTORE</td><td>OPEN</td><td>878193</td><td>0</td><td>0</td><td>NULL</td></tr>",
                            "</table>"
                        ]
                    }
                }
            ],
            "execution_count": 2
        }
    ]
}