{
    "metadata": {
        "kernelspec": {
            "name": "SQL",
            "display_name": "SQL",
            "language": "sql"
        },
        "language_info": {
            "name": "sql",
            "version": ""
        },
        "extensions": {
            "azuredatastudio": {
                "version": 1,
                "views": []
            }
        }
    },
    "nbformat_minor": 2,
    "nbformat": 4,
    "cells": [
        {
            "cell_type": "markdown",
            "source": [
                "Partition the CS table"
            ],
            "metadata": {
                "azdata_cell_guid": "7fe3349b-5f6e-45fc-a1fc-18a260145b03"
            },
            "attachments": {}
        },
        {
            "cell_type": "code",
            "source": [
                "CREATE PARTITION FUNCTION pf_PartitionFunction ( date )\r\n",
                "AS RANGE RIGHT FOR VALUES ('20160101', '20170101', '20180101', '20190101', '20200101');\r\n",
                "GO\r\n",
                "CREATE PARTITION SCHEME ps_PartitionScheme\r\n",
                "AS PARTITION pf_PartitionFunction\r\n",
                "ALL TO ( [PRIMARY] );  \r\n",
                "go\r\n",
                "\r\n",
                ""
            ],
            "metadata": {
                "azdata_cell_guid": "ffceb296-2579-4239-ba1e-a4edf98b69d0",
                "tags": [
                    "hide_input"
                ]
            },
            "outputs": [],
            "execution_count": null
        },
        {
            "cell_type": "code",
            "source": [
                "CREATE TABLE [ABCCompany].[Sales].[SalesOrder_PCS](\r\n",
                "\t[Id] [int] NOT NULL,\r\n",
                "\t[SalesPerson] [int] NOT NULL,\r\n",
                "\t[SalesAmount] [decimal](36, 2) NOT NULL,\r\n",
                "\t[SalesDate] [date] NOT NULL,\r\n",
                "\t[SalesTerritory] [int] NOT NULL,\r\n",
                "\t[OrderDescription] [nvarchar](max) NULL,\r\n",
                "\t[CreateDate] [datetime] NOT NULL,\r\n",
                "\t[ModifyDate] [datetime] NULL,\r\n",
                "\tINDEX pcci1 CLUSTERED COLUMNSTORE\r\n",
                ") ON ps_PartitionScheme(SalesDate);\r\n",
                "GO\r\n",
                "INSERT [ABCCompany].[Sales].[SalesOrder_PCS]\r\n",
                "SELECT * from [ABCCompany].[Sales].[SalesOrder_CS]"
            ],
            "metadata": {
                "azdata_cell_guid": "84f0f3ca-830f-4b11-a013-a20b3fe37871",
                "tags": [
                    "hide_input"
                ]
            },
            "outputs": [],
            "execution_count": null
        },
        {
            "cell_type": "markdown",
            "source": [
                "Check compression"
            ],
            "metadata": {
                "azdata_cell_guid": "25228ad1-e2dc-467e-b24f-304fae6a5994"
            },
            "attachments": {}
        },
        {
            "cell_type": "code",
            "source": [
                "SELECT OBJECT_NAME(object_id) AS [ObjectName], \r\n",
                "SUM(Rows) AS [RowCount], data_compression_desc AS [CompressionType]\r\n",
                "FROM sys.partitions WITH (NOLOCK)\r\n",
                "WHERE index_id < 2 --ignore the partitions from the non-clustered index if any\r\n",
                "AND OBJECT_NAME(object_id) NOT LIKE N'sys%'\r\n",
                "AND OBJECT_NAME(object_id) NOT LIKE N'queue_%' \r\n",
                "AND OBJECT_NAME(object_id) NOT LIKE N'filestream_tombstone%' \r\n",
                "AND OBJECT_NAME(object_id) NOT LIKE N'fulltext%'\r\n",
                "AND OBJECT_NAME(object_id) NOT LIKE N'ifts_comp_fragment%'\r\n",
                "AND OBJECT_NAME(object_id) NOT LIKE N'filetable_updates%'\r\n",
                "AND OBJECT_NAME(object_id) NOT LIKE N'xml_index_nodes%'\r\n",
                "AND OBJECT_NAME(object_id) NOT LIKE N'sqlagent_job%'  \r\n",
                "AND OBJECT_NAME(object_id) NOT LIKE N'plan_persist%'  \r\n",
                "GROUP BY object_id, data_compression_desc\r\n",
                "ORDER BY SUM(Rows) DESC OPTION (RECOMPILE);\r\n",
                "------\r\n",
                "------\r\n",
                ""
            ],
            "metadata": {
                "azdata_cell_guid": "a54275f5-fd0a-44c7-9ffb-a6da15960365",
                "tags": [
                    "hide_input"
                ]
            },
            "outputs": [
                {
                    "output_type": "display_data",
                    "data": {
                        "text/html": "(11 rows affected)"
                    },
                    "metadata": {}
                },
                {
                    "output_type": "display_data",
                    "data": {
                        "text/html": "Total execution time: 00:00:00.020"
                    },
                    "metadata": {}
                },
                {
                    "output_type": "execute_result",
                    "metadata": {},
                    "execution_count": 7,
                    "data": {
                        "application/vnd.dataresource+json": {
                            "schema": {
                                "fields": [
                                    {
                                        "name": "ObjectName"
                                    },
                                    {
                                        "name": "RowCount"
                                    },
                                    {
                                        "name": "CompressionType"
                                    }
                                ]
                            },
                            "data": [
                                {
                                    "0": "SalesOrder_CS",
                                    "1": "25000000",
                                    "2": "COLUMNSTORE"
                                },
                                {
                                    "0": "SalesOrder",
                                    "1": "25000000",
                                    "2": "NONE"
                                },
                                {
                                    "0": "SalesOrder_RS",
                                    "1": "25000000",
                                    "2": "NONE"
                                },
                                {
                                    "0": "SalesOrder_PCS",
                                    "1": "23800000",
                                    "2": "COLUMNSTORE"
                                },
                                {
                                    "0": "SalesPerson",
                                    "1": "1001",
                                    "2": "NONE"
                                },
                                {
                                    "0": "SalesTerritory",
                                    "1": "10",
                                    "2": "NONE"
                                },
                                {
                                    "0": "SalesPersonLevel",
                                    "1": "4",
                                    "2": "NONE"
                                },
                                {
                                    "0": "SalesTerritoryStatus",
                                    "1": "3",
                                    "2": "NONE"
                                },
                                {
                                    "0": "persistent_version_store",
                                    "1": "0",
                                    "2": "NONE"
                                },
                                {
                                    "0": "persistent_version_store_long_term",
                                    "1": "0",
                                    "2": "NONE"
                                },
                                {
                                    "0": "wpr_bucket_table",
                                    "1": "0",
                                    "2": "NONE"
                                }
                            ]
                        },
                        "text/html": [
                            "<table>",
                            "<tr><th>ObjectName</th><th>RowCount</th><th>CompressionType</th></tr>",
                            "<tr><td>SalesOrder_CS</td><td>25000000</td><td>COLUMNSTORE</td></tr>",
                            "<tr><td>SalesOrder</td><td>25000000</td><td>NONE</td></tr>",
                            "<tr><td>SalesOrder_RS</td><td>25000000</td><td>NONE</td></tr>",
                            "<tr><td>SalesOrder_PCS</td><td>23800000</td><td>COLUMNSTORE</td></tr>",
                            "<tr><td>SalesPerson</td><td>1001</td><td>NONE</td></tr>",
                            "<tr><td>SalesTerritory</td><td>10</td><td>NONE</td></tr>",
                            "<tr><td>SalesPersonLevel</td><td>4</td><td>NONE</td></tr>",
                            "<tr><td>SalesTerritoryStatus</td><td>3</td><td>NONE</td></tr>",
                            "<tr><td>persistent_version_store</td><td>0</td><td>NONE</td></tr>",
                            "<tr><td>persistent_version_store_long_term</td><td>0</td><td>NONE</td></tr>",
                            "<tr><td>wpr_bucket_table</td><td>0</td><td>NONE</td></tr>",
                            "</table>"
                        ]
                    }
                }
            ],
            "execution_count": 7
        },
        {
            "cell_type": "markdown",
            "source": [
                "Check partitioning"
            ],
            "metadata": {
                "azdata_cell_guid": "04271216-9aaf-42fa-bd6b-efe96489dde5"
            },
            "attachments": {}
        },
        {
            "cell_type": "code",
            "source": [
                "CREATE VIEW Partition_Info\r\n",
                "AS\r\n",
                "    SELECT  OBJECT_NAME(i.object_id) AS Object_Name ,\r\n",
                "            i.index_id AS [Index_ID] ,\r\n",
                "            p.partition_number ,\r\n",
                "            fg.name AS Filegroup_Name ,\r\n",
                "            p.rows ,\r\n",
                "            au.total_pages ,\r\n",
                "            f.name AS PartitionScheme ,\r\n",
                "            CASE f.boundary_value_on_right\r\n",
                "              WHEN 1 THEN 'less than'\r\n",
                "              ELSE 'less than or equal to'\r\n",
                "            END AS 'comparison' ,\r\n",
                "            rv.value\r\n",
                "    FROM    sys.partitions p\r\n",
                "            JOIN sys.indexes i ON p.object_id = i.object_id\r\n",
                "                                  AND p.index_id = i.index_id\r\n",
                "            JOIN sys.partition_schemes ps ON ps.data_space_id = i.data_space_id\r\n",
                "            JOIN sys.partition_functions f ON f.function_id = ps.function_id\r\n",
                "            LEFT JOIN sys.partition_range_values rv ON f.function_id = rv.function_id\r\n",
                "                                                       AND p.partition_number = rv.boundary_id\r\n",
                "            JOIN sys.destination_data_spaces dds ON dds.partition_scheme_id = ps.data_space_id\r\n",
                "                                                    AND dds.destination_id = p.partition_number\r\n",
                "            JOIN sys.filegroups fg ON dds.data_space_id = fg.data_space_id\r\n",
                "            JOIN ( SELECT   container_id ,\r\n",
                "                            SUM(total_pages) AS total_pages\r\n",
                "                   FROM     sys.allocation_units\r\n",
                "                   GROUP BY container_id\r\n",
                "                 ) AS au ON au.container_id = p.partition_id\r\n",
                "    WHERE   i.index_id < 2 ;\r\n",
                "     \r\n",
                "GO"
            ],
            "metadata": {
                "azdata_cell_guid": "6582a2af-973d-4651-a12b-9b84ff89038c",
                "tags": [
                    "hide_input"
                ]
            },
            "outputs": [],
            "execution_count": null
        },
        {
            "cell_type": "code",
            "source": [
                "SELECT  * FROM    Partition_Info ORDER BY 1 ,3"
            ],
            "metadata": {
                "azdata_cell_guid": "0e3c2cb7-b94c-427f-aeb1-36f40fc2950e",
                "tags": [
                    "hide_input"
                ]
            },
            "outputs": [],
            "execution_count": null
        }
    ]
}