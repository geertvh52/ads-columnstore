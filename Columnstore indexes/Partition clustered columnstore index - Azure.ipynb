{
    "metadata": {
        "kernelspec": {
            "name": "SQL",
            "display_name": "SQL",
            "language": "sql"
        },
        "language_info": {
            "name": "sql",
            "version": ""
        },
        "extensions": {
            "azuredatastudio": {
                "version": 1,
                "views": []
            }
        }
    },
    "nbformat_minor": 2,
    "nbformat": 4,
    "cells": [
        {
            "cell_type": "markdown",
            "source": [
                "Prepare database"
            ],
            "metadata": {
                "azdata_cell_guid": "8f041d68-d163-4183-a109-f5b5db38ea00"
            },
            "attachments": {}
        },
        {
            "cell_type": "code",
            "source": [
                "-- fill fact table\r\n",
                "SET NOCOUNT ON\r\n",
                "GO\r\n",
                "\r\n",
                "DROP TABLE IF EXISTS [dbo].[Fact]\r\n",
                "GO\r\n",
                "\r\n",
                "CREATE TABLE [dbo].[Fact] (\r\n",
                "\t[Id] int identity(1,1) NOT NULL,\r\n",
                "\t[Dim1Id] int NOT NULL,\r\n",
                "\t[Dim2Id] int NOT NULL,\r\n",
                "\t[Dim3Id] int NOT NULL,\r\n",
                "\t[Dim4Id] int NOT NULL,\r\n",
                "\t[Dim5Id] int NOT NULL,\r\n",
                "\t[Dim6Id] int NOT NULL,\r\n",
                "\t[Dim7Id] int NOT NULL,\r\n",
                "\t[Dim8Id] int NOT NULL,\r\n",
                "\t[Dim9Id] int NOT NULL,\r\n",
                "\t[Dim10Id] int NOT NULL,\r\n",
                "\t[Measure1] decimal(36,2) NOT NULL,\r\n",
                "\t[Measure2] decimal(36,2) NOT NULL,\r\n",
                "\t[Measure3] decimal(36,2) NOT NULL,\r\n",
                "\t[Measure4] decimal(36,2) NOT NULL,\r\n",
                "\t[Measure5] decimal(36,2) NOT NULL,\r\n",
                "\t[Date1] date NOT NULL,\r\n",
                "\t[Date2] date NOT NULL,\r\n",
                "\t[Date3] date NOT NULL,\r\n",
                "\t[CreateDate] datetime NOT NULL DEFAULT GETDATE(),\r\n",
                "\t[ModifyDate] datetime NULL);\r\n",
                "GO\r\n",
                "\r\n",
                "\r\n",
                "-- Itzik Ben-Gan script to generate numbers table.\r\n",
                "DROP TABLE IF EXISTS #NumbersTable;\r\n",
                "GO\r\n",
                "\r\n",
                "   WITH E00(N) AS (SELECT 1 UNION ALL SELECT 1),\r\n",
                "        E02(N) AS (SELECT 1 FROM E00 a, E00 b),\r\n",
                "        E04(N) AS (SELECT 1 FROM E02 a, E02 b),\r\n",
                "        E08(N) AS (SELECT 1 FROM E04 a, E04 b),\r\n",
                "        E16(N) AS (SELECT 1 FROM E08 a, E08 b),\r\n",
                "        E32(N) AS (SELECT 1 FROM E16 a, E16 b),\r\n",
                "   cteTally(N) AS (SELECT ROW_NUMBER() OVER (ORDER BY N) FROM E32)\r\n",
                " SELECT N\r\n",
                "   INTO #NumbersTable\r\n",
                "   FROM cteTally\r\n",
                "  WHERE N <= 100000;\r\n",
                "GO\r\n",
                "\r\n",
                "\r\n",
                "-- Populate the fact basetable. \r\n",
                "DECLARE @Count int = 0;\r\n",
                "WHILE (@Count < 25000000)\r\n",
                "BEGIN\r\n",
                "INSERT INTO [dbo].[Fact] WITH (HOLDLOCK TABLOCKX) \r\n",
                "\t\t([Dim1Id] ,\r\n",
                "\t     [Dim2Id] ,\r\n",
                "\t     [Dim3Id] ,\r\n",
                "\t     [Dim4Id] ,\r\n",
                "\t     [Dim5Id] ,\r\n",
                "\t     [Dim6Id] ,\r\n",
                "\t     [Dim7Id] ,\r\n",
                "\t     [Dim8Id] ,\r\n",
                "\t     [Dim9Id] ,\r\n",
                "\t     [Dim10Id] ,\r\n",
                "\t     [Measure1] ,\r\n",
                "\t     [Measure2] ,\r\n",
                "\t     [Measure3] ,\r\n",
                "\t     [Measure4] ,\r\n",
                "\t     [Measure5] ,\r\n",
                "\t     [Date1] ,\r\n",
                "\t     [Date2] ,\r\n",
                "\t     [Date3] ) \r\n",
                "\tSELECT\tABS(CHECKSUM(NEWID()) % 49) AS Dim1Id\r\n",
                "               , ABS(CHECKSUM(NEWID()) % 49) AS Dim2Id\r\n",
                "               , ABS(CHECKSUM(NEWID()) % 49) AS Dim3Id\r\n",
                "               , ABS(CHECKSUM(NEWID()) % 49) AS Dim4Id\r\n",
                "               , ABS(CHECKSUM(NEWID()) % 49) AS Dim5Id\r\n",
                "               , ABS(CHECKSUM(NEWID()) % 49) AS Dim6Id\r\n",
                "               , ABS(CHECKSUM(NEWID()) % 49) AS Dim7Id\r\n",
                "               , ABS(CHECKSUM(NEWID()) % 49) AS Dim8Id\r\n",
                "               , ABS(CHECKSUM(NEWID()) % 999) AS Dim9Id\r\n",
                "               , ABS(CHECKSUM(NEWID()) % 999) AS Dim10Id\r\n",
                "                \r\n",
                "\t\t\t,ROUND(RAND(CHECKSUM(NEWID())) * (10000), 1000) AS Measure1\r\n",
                "\t\t\t,ROUND(RAND(CHECKSUM(NEWID())) * (10000), 1000) AS Measure2\r\n",
                "\t\t\t,ROUND(RAND(CHECKSUM(NEWID())) * (10000), 1000) AS Measure3\r\n",
                "\t\t\t,ROUND(RAND(CHECKSUM(NEWID())) * (10000), 1000) AS Measure4\r\n",
                "\t\t\t,ROUND(RAND(CHECKSUM(NEWID())) * (10000), 1000) AS Measure5\r\n",
                "\t\t\t,DATEADD(DAY, RAND(CHECKSUM(NEWID()))*(1+DATEDIFF(DAY, '1/1/2016', '2/25/2020')), '1/1/2016') AS Date1\r\n",
                "\t\t\t,DATEADD(DAY, RAND(CHECKSUM(NEWID()))*(1+DATEDIFF(DAY, '1/1/2016', '2/25/2020')), '1/1/2016') AS Date2\r\n",
                "\t\t\t,DATEADD(DAY, RAND(CHECKSUM(NEWID()))*(1+DATEDIFF(DAY, '1/1/2016', '2/25/2020')), '1/1/2016') AS Date3\r\n",
                "\tFROM #NumbersTable\r\n",
                "\tSET @Count = @Count + @@ROWCOUNT;\r\n",
                "END\r\n",
                "GO\r\n",
                "\r\n",
                "\r\n",
                "-- Clean up our numbers table.\r\n",
                "DROP TABLE IF EXISTS #NumbersTable;\r\n",
                "GO"
            ],
            "metadata": {
                "azdata_cell_guid": "74db3356-06ed-4da0-a780-cef9f3d41bc6",
                "tags": [
                    "hide_input"
                ]
            },
            "outputs": [],
            "execution_count": null
        },
        {
            "cell_type": "markdown",
            "source": [
                "Generate testdata"
            ],
            "metadata": {
                "azdata_cell_guid": "edff72b6-d960-47b5-be59-106b84698d7a"
            },
            "attachments": {}
        },
        {
            "cell_type": "code",
            "source": [
                "-- Create partition functions + schema\r\n",
                "\r\n",
                "CREATE PARTITION FUNCTION pf_PartitionFunction ( date )\r\n",
                "AS RANGE RIGHT FOR VALUES ('20160101', '20170101', '20180101', '20190101', '20200101');\r\n",
                "GO\r\n",
                "CREATE PARTITION SCHEME ps_PartitionScheme\r\n",
                "AS PARTITION pf_PartitionFunction\r\n",
                "ALL TO ( [PRIMARY] );  \r\n",
                "go\r\n",
                "\r\n",
                ""
            ],
            "metadata": {
                "azdata_cell_guid": "471f8a2f-f2d5-4292-9362-c6bf919c86cb",
                "tags": [
                    "hide_input"
                ]
            },
            "outputs": [],
            "execution_count": null
        },
        {
            "cell_type": "code",
            "source": [
                "-- create non-partitionned clustered columnstore table + fill\r\n",
                "\r\n",
                "CREATE TABLE [dbo].[Fact_CS] (\r\n",
                "\t[Dim1Id] int NOT NULL,\r\n",
                "\t[Dim2Id] int NOT NULL,\r\n",
                "\t[Dim3Id] int NOT NULL,\r\n",
                "\t[Dim4Id] int NOT NULL,\r\n",
                "\t[Dim5Id] int NOT NULL,\r\n",
                "\t[Dim6Id] int NOT NULL,\r\n",
                "\t[Dim7Id] int NOT NULL,\r\n",
                "\t[Dim8Id] int NOT NULL,\r\n",
                "\t[Dim9Id] int NOT NULL,\r\n",
                "\t[Dim10Id] int NOT NULL,\r\n",
                "\t[Measure1] decimal(36,2) NOT NULL,\r\n",
                "\t[Measure2] decimal(36,2) NOT NULL,\r\n",
                "\t[Measure3] decimal(36,2) NOT NULL,\r\n",
                "\t[Measure4] decimal(36,2) NOT NULL,\r\n",
                "\t[Measure5] decimal(36,2) NOT NULL,\r\n",
                "\t[Date1] date NOT NULL,\r\n",
                "\t[Date2] date NOT NULL,\r\n",
                "\t[Date3] date NOT NULL,\r\n",
                "\tINDEX cci1 CLUSTERED COLUMNSTORE\r\n",
                ") ;\r\n",
                "GO\r\n",
                "\r\n",
                "INSERT [dbo].[Fact_CS]\r\n",
                "SELECT [Dim1Id],\r\n",
                "\t[Dim2Id] ,\r\n",
                "\t[Dim3Id] ,\r\n",
                "\t[Dim4Id] ,\r\n",
                "\t[Dim5Id] ,\r\n",
                "\t[Dim6Id] ,\r\n",
                "\t[Dim7Id] ,\r\n",
                "\t[Dim8Id] ,\r\n",
                "\t[Dim9Id] ,\r\n",
                "\t[Dim10Id] ,\r\n",
                "\t[Measure1] ,\r\n",
                "\t[Measure2] ,\r\n",
                "\t[Measure3] ,\r\n",
                "\t[Measure4] ,\r\n",
                "\t[Measure5] ,\r\n",
                "\t[Date1] ,\r\n",
                "\t[Date2] ,\r\n",
                "\t[Date3] \r\n",
                "\tfrom [dbo].[Fact]\r\n",
                "\torder by [Date1]"
            ],
            "metadata": {
                "azdata_cell_guid": "9bbe3a6a-5f67-418d-b5bb-967628a10d1c",
                "tags": [
                    "hide_input"
                ]
            },
            "outputs": [],
            "execution_count": null
        },
        {
            "cell_type": "code",
            "source": [
                "-- create partitionned clustered columnstore table + fill\r\n",
                "\r\n",
                "CREATE TABLE [dbo].[Fact_PCS] (\r\n",
                "\t[Dim1Id] int NOT NULL,\r\n",
                "\t[Dim2Id] int NOT NULL,\r\n",
                "\t[Dim3Id] int NOT NULL,\r\n",
                "\t[Dim4Id] int NOT NULL,\r\n",
                "\t[Dim5Id] int NOT NULL,\r\n",
                "\t[Dim6Id] int NOT NULL,\r\n",
                "\t[Dim7Id] int NOT NULL,\r\n",
                "\t[Dim8Id] int NOT NULL,\r\n",
                "\t[Dim9Id] int NOT NULL,\r\n",
                "\t[Dim10Id] int NOT NULL,\r\n",
                "\t[Measure1] decimal(36,2) NOT NULL,\r\n",
                "\t[Measure2] decimal(36,2) NOT NULL,\r\n",
                "\t[Measure3] decimal(36,2) NOT NULL,\r\n",
                "\t[Measure4] decimal(36,2) NOT NULL,\r\n",
                "\t[Measure5] decimal(36,2) NOT NULL,\r\n",
                "\t[Date1] date NOT NULL,\r\n",
                "\t[Date2] date NOT NULL,\r\n",
                "\t[Date3] date NOT NULL,\r\n",
                "\tINDEX pcci1 CLUSTERED COLUMNSTORE\r\n",
                ") ON ps_PartitionScheme(Date1);\r\n",
                "GO\r\n",
                "\r\n",
                "INSERT [dbo].[Fact_PCS]\r\n",
                "SELECT [Dim1Id],\r\n",
                "\t[Dim2Id] ,\r\n",
                "\t[Dim3Id] ,\r\n",
                "\t[Dim4Id] ,\r\n",
                "\t[Dim5Id] ,\r\n",
                "\t[Dim6Id] ,\r\n",
                "\t[Dim7Id] ,\r\n",
                "\t[Dim8Id] ,\r\n",
                "\t[Dim9Id] ,\r\n",
                "\t[Dim10Id] ,\r\n",
                "\t[Measure1] ,\r\n",
                "\t[Measure2] ,\r\n",
                "\t[Measure3] ,\r\n",
                "\t[Measure4] ,\r\n",
                "\t[Measure5] ,\r\n",
                "\t[Date1] ,\r\n",
                "\t[Date2] ,\r\n",
                "\t[Date3] \r\n",
                "\tfrom [dbo].[Fact]\r\n",
                "\torder by [Date1]"
            ],
            "metadata": {
                "azdata_cell_guid": "013c431f-3246-4600-98b8-2b746615fa79",
                "tags": [
                    "hide_input"
                ]
            },
            "outputs": [],
            "execution_count": null
        },
        {
            "cell_type": "markdown",
            "source": [
                "Check columnstore metadata"
            ],
            "metadata": {
                "azdata_cell_guid": "563fec2c-f23d-44ba-bd19-2e1b3999984b"
            },
            "attachments": {}
        },
        {
            "cell_type": "code",
            "source": [
                "-- Check the deleted buffer.\r\n",
                "SELECT  object_name(i.object_id) AS TableName,\r\n",
                "\t\ti.[name] AS IndexName, \r\n",
                "\t\tp.[internal_object_type_desc] AS [Description],\r\n",
                "\t\tp.[rows] AS [RowCount], \r\n",
                "\t\tp.[data_compression_desc] AS [CompressionType]\r\n",
                "FROM [sys].[internal_partitions] AS p\r\n",
                "INNER JOIN [sys].[indexes] AS i ON p.[object_id] = i.[object_id] \r\n",
                "\tAND p.[index_id] = i.[index_id]\r\n",
                "WHERE i.[name] like '%cci1'\r\n",
                "ORDER BY object_name(i.object_id);\r\n",
                "GO\r\n",
                "\r\n",
                "\r\n",
                "\r\n",
                "\r\n",
                "-- Let's checkout our rowgroups.\r\n",
                "SELECT  object_name(i.object_id) AS TableName,   \r\n",
                "\t\ti.name AS IndexName,   \r\n",
                "\t\ti.type_desc AS IndexType,   \r\n",
                "\t\trg.state_desc AS StateDescription,\r\n",
                "\t\trg.total_rows AS TotalRows,\r\n",
                "\t\trg.deleted_rows AS DeletedRows,\r\n",
                "\t\t100*(ISNULL(deleted_rows,0))/NULLIF(total_rows,0) AS Fragmented,\r\n",
                "\t\trg.trim_reason_desc AS TrimReason\r\n",
                "FROM [sys].[indexes] AS i  \r\n",
                "JOIN [sys].[dm_db_column_store_row_group_physical_stats] AS rg  \r\n",
                "    ON i.object_id = rg.object_id AND i.index_id = rg.index_id\r\n",
                "\tWHERE i.name like '%cci1'\r\n",
                "ORDER BY object_name(i.object_id);\r\n",
                "GO"
            ],
            "metadata": {
                "azdata_cell_guid": "90ae19c6-1ec0-481e-a5dc-f9f53f7863c7",
                "tags": []
            },
            "outputs": [
                {
                    "output_type": "display_data",
                    "data": {
                        "text/html": "(7 rows affected)"
                    },
                    "metadata": {}
                },
                {
                    "output_type": "display_data",
                    "data": {
                        "text/html": "(50 rows affected)"
                    },
                    "metadata": {}
                },
                {
                    "output_type": "display_data",
                    "data": {
                        "text/html": "Total execution time: 00:00:00.079"
                    },
                    "metadata": {}
                },
                {
                    "output_type": "execute_result",
                    "execution_count": 19,
                    "data": {
                        "application/vnd.dataresource+json": {
                            "schema": {
                                "fields": [
                                    {
                                        "name": "TableName"
                                    },
                                    {
                                        "name": "IndexName"
                                    },
                                    {
                                        "name": "Description"
                                    },
                                    {
                                        "name": "RowCount"
                                    },
                                    {
                                        "name": "CompressionType"
                                    }
                                ]
                            },
                            "data": [
                                {
                                    "0": "Fact_CS",
                                    "1": "cci1",
                                    "2": "COLUMN_STORE_DELETE_BITMAP",
                                    "3": "0",
                                    "4": "PAGE"
                                },
                                {
                                    "0": "Fact_PCS",
                                    "1": "pcci1",
                                    "2": "COLUMN_STORE_DELETE_BITMAP",
                                    "3": "0",
                                    "4": "PAGE"
                                },
                                {
                                    "0": "Fact_PCS",
                                    "1": "pcci1",
                                    "2": "COLUMN_STORE_DELETE_BITMAP",
                                    "3": "0",
                                    "4": "PAGE"
                                },
                                {
                                    "0": "Fact_PCS",
                                    "1": "pcci1",
                                    "2": "COLUMN_STORE_DELETE_BITMAP",
                                    "3": "0",
                                    "4": "PAGE"
                                },
                                {
                                    "0": "Fact_PCS",
                                    "1": "pcci1",
                                    "2": "COLUMN_STORE_DELETE_BITMAP",
                                    "3": "0",
                                    "4": "PAGE"
                                },
                                {
                                    "0": "Fact_PCS",
                                    "1": "pcci1",
                                    "2": "COLUMN_STORE_DELETE_BITMAP",
                                    "3": "0",
                                    "4": "PAGE"
                                },
                                {
                                    "0": "Fact_PCS",
                                    "1": "pcci1",
                                    "2": "COLUMN_STORE_DELETE_BITMAP",
                                    "3": "0",
                                    "4": "PAGE"
                                }
                            ]
                        },
                        "text/html": "<table><tr><th>TableName</th><th>IndexName</th><th>Description</th><th>RowCount</th><th>CompressionType</th></tr><tr><td>Fact_CS</td><td>cci1</td><td>COLUMN_STORE_DELETE_BITMAP</td><td>0</td><td>PAGE</td></tr><tr><td>Fact_PCS</td><td>pcci1</td><td>COLUMN_STORE_DELETE_BITMAP</td><td>0</td><td>PAGE</td></tr><tr><td>Fact_PCS</td><td>pcci1</td><td>COLUMN_STORE_DELETE_BITMAP</td><td>0</td><td>PAGE</td></tr><tr><td>Fact_PCS</td><td>pcci1</td><td>COLUMN_STORE_DELETE_BITMAP</td><td>0</td><td>PAGE</td></tr><tr><td>Fact_PCS</td><td>pcci1</td><td>COLUMN_STORE_DELETE_BITMAP</td><td>0</td><td>PAGE</td></tr><tr><td>Fact_PCS</td><td>pcci1</td><td>COLUMN_STORE_DELETE_BITMAP</td><td>0</td><td>PAGE</td></tr><tr><td>Fact_PCS</td><td>pcci1</td><td>COLUMN_STORE_DELETE_BITMAP</td><td>0</td><td>PAGE</td></tr></table>"
                    },
                    "metadata": {}
                },
                {
                    "output_type": "execute_result",
                    "execution_count": 19,
                    "data": {
                        "application/vnd.dataresource+json": {
                            "schema": {
                                "fields": [
                                    {
                                        "name": "TableName"
                                    },
                                    {
                                        "name": "IndexName"
                                    },
                                    {
                                        "name": "IndexType"
                                    },
                                    {
                                        "name": "StateDescription"
                                    },
                                    {
                                        "name": "TotalRows"
                                    },
                                    {
                                        "name": "DeletedRows"
                                    },
                                    {
                                        "name": "Fragmented"
                                    },
                                    {
                                        "name": "TrimReason"
                                    }
                                ]
                            },
                            "data": [
                                {
                                    "0": "Fact_CS",
                                    "1": "cci1",
                                    "2": "CLUSTERED COLUMNSTORE",
                                    "3": "COMPRESSED",
                                    "4": "834176",
                                    "5": "0",
                                    "6": "0",
                                    "7": "RESIDUAL_ROW_GROUP"
                                },
                                {
                                    "0": "Fact_CS",
                                    "1": "cci1",
                                    "2": "CLUSTERED COLUMNSTORE",
                                    "3": "COMPRESSED",
                                    "4": "1048576",
                                    "5": "0",
                                    "6": "0",
                                    "7": "NO_TRIM"
                                },
                                {
                                    "0": "Fact_CS",
                                    "1": "cci1",
                                    "2": "CLUSTERED COLUMNSTORE",
                                    "3": "COMPRESSED",
                                    "4": "1048576",
                                    "5": "0",
                                    "6": "0",
                                    "7": "NO_TRIM"
                                },
                                {
                                    "0": "Fact_CS",
                                    "1": "cci1",
                                    "2": "CLUSTERED COLUMNSTORE",
                                    "3": "COMPRESSED",
                                    "4": "1048576",
                                    "5": "0",
                                    "6": "0",
                                    "7": "NO_TRIM"
                                },
                                {
                                    "0": "Fact_CS",
                                    "1": "cci1",
                                    "2": "CLUSTERED COLUMNSTORE",
                                    "3": "COMPRESSED",
                                    "4": "1048576",
                                    "5": "0",
                                    "6": "0",
                                    "7": "NO_TRIM"
                                },
                                {
                                    "0": "Fact_CS",
                                    "1": "cci1",
                                    "2": "CLUSTERED COLUMNSTORE",
                                    "3": "COMPRESSED",
                                    "4": "1048576",
                                    "5": "0",
                                    "6": "0",
                                    "7": "NO_TRIM"
                                },
                                {
                                    "0": "Fact_CS",
                                    "1": "cci1",
                                    "2": "CLUSTERED COLUMNSTORE",
                                    "3": "COMPRESSED",
                                    "4": "1048576",
                                    "5": "0",
                                    "6": "0",
                                    "7": "NO_TRIM"
                                },
                                {
                                    "0": "Fact_CS",
                                    "1": "cci1",
                                    "2": "CLUSTERED COLUMNSTORE",
                                    "3": "COMPRESSED",
                                    "4": "1048576",
                                    "5": "0",
                                    "6": "0",
                                    "7": "NO_TRIM"
                                },
                                {
                                    "0": "Fact_CS",
                                    "1": "cci1",
                                    "2": "CLUSTERED COLUMNSTORE",
                                    "3": "COMPRESSED",
                                    "4": "1048576",
                                    "5": "0",
                                    "6": "0",
                                    "7": "NO_TRIM"
                                },
                                {
                                    "0": "Fact_CS",
                                    "1": "cci1",
                                    "2": "CLUSTERED COLUMNSTORE",
                                    "3": "COMPRESSED",
                                    "4": "1048576",
                                    "5": "0",
                                    "6": "0",
                                    "7": "NO_TRIM"
                                },
                                {
                                    "0": "Fact_CS",
                                    "1": "cci1",
                                    "2": "CLUSTERED COLUMNSTORE",
                                    "3": "COMPRESSED",
                                    "4": "1048576",
                                    "5": "0",
                                    "6": "0",
                                    "7": "NO_TRIM"
                                },
                                {
                                    "0": "Fact_CS",
                                    "1": "cci1",
                                    "2": "CLUSTERED COLUMNSTORE",
                                    "3": "COMPRESSED",
                                    "4": "1048576",
                                    "5": "0",
                                    "6": "0",
                                    "7": "NO_TRIM"
                                },
                                {
                                    "0": "Fact_CS",
                                    "1": "cci1",
                                    "2": "CLUSTERED COLUMNSTORE",
                                    "3": "COMPRESSED",
                                    "4": "1048576",
                                    "5": "0",
                                    "6": "0",
                                    "7": "NO_TRIM"
                                },
                                {
                                    "0": "Fact_CS",
                                    "1": "cci1",
                                    "2": "CLUSTERED COLUMNSTORE",
                                    "3": "COMPRESSED",
                                    "4": "1048576",
                                    "5": "0",
                                    "6": "0",
                                    "7": "NO_TRIM"
                                },
                                {
                                    "0": "Fact_CS",
                                    "1": "cci1",
                                    "2": "CLUSTERED COLUMNSTORE",
                                    "3": "COMPRESSED",
                                    "4": "1048576",
                                    "5": "0",
                                    "6": "0",
                                    "7": "NO_TRIM"
                                },
                                {
                                    "0": "Fact_CS",
                                    "1": "cci1",
                                    "2": "CLUSTERED COLUMNSTORE",
                                    "3": "COMPRESSED",
                                    "4": "1048576",
                                    "5": "0",
                                    "6": "0",
                                    "7": "NO_TRIM"
                                },
                                {
                                    "0": "Fact_CS",
                                    "1": "cci1",
                                    "2": "CLUSTERED COLUMNSTORE",
                                    "3": "COMPRESSED",
                                    "4": "1048576",
                                    "5": "0",
                                    "6": "0",
                                    "7": "NO_TRIM"
                                },
                                {
                                    "0": "Fact_CS",
                                    "1": "cci1",
                                    "2": "CLUSTERED COLUMNSTORE",
                                    "3": "COMPRESSED",
                                    "4": "1048576",
                                    "5": "0",
                                    "6": "0",
                                    "7": "NO_TRIM"
                                },
                                {
                                    "0": "Fact_CS",
                                    "1": "cci1",
                                    "2": "CLUSTERED COLUMNSTORE",
                                    "3": "COMPRESSED",
                                    "4": "1048576",
                                    "5": "0",
                                    "6": "0",
                                    "7": "NO_TRIM"
                                },
                                {
                                    "0": "Fact_CS",
                                    "1": "cci1",
                                    "2": "CLUSTERED COLUMNSTORE",
                                    "3": "COMPRESSED",
                                    "4": "1048576",
                                    "5": "0",
                                    "6": "0",
                                    "7": "NO_TRIM"
                                },
                                {
                                    "0": "Fact_CS",
                                    "1": "cci1",
                                    "2": "CLUSTERED COLUMNSTORE",
                                    "3": "COMPRESSED",
                                    "4": "1048576",
                                    "5": "0",
                                    "6": "0",
                                    "7": "NO_TRIM"
                                },
                                {
                                    "0": "Fact_CS",
                                    "1": "cci1",
                                    "2": "CLUSTERED COLUMNSTORE",
                                    "3": "COMPRESSED",
                                    "4": "1048576",
                                    "5": "0",
                                    "6": "0",
                                    "7": "NO_TRIM"
                                },
                                {
                                    "0": "Fact_CS",
                                    "1": "cci1",
                                    "2": "CLUSTERED COLUMNSTORE",
                                    "3": "COMPRESSED",
                                    "4": "1048576",
                                    "5": "0",
                                    "6": "0",
                                    "7": "NO_TRIM"
                                },
                                {
                                    "0": "Fact_CS",
                                    "1": "cci1",
                                    "2": "CLUSTERED COLUMNSTORE",
                                    "3": "COMPRESSED",
                                    "4": "1048576",
                                    "5": "0",
                                    "6": "0",
                                    "7": "NO_TRIM"
                                },
                                {
                                    "0": "Fact_CS",
                                    "1": "cci1",
                                    "2": "CLUSTERED COLUMNSTORE",
                                    "3": "COMPRESSED",
                                    "4": "1048576",
                                    "5": "0",
                                    "6": "0",
                                    "7": "NO_TRIM"
                                },
                                {
                                    "0": "Fact_PCS",
                                    "1": "pcci1",
                                    "2": "CLUSTERED COLUMNSTORE",
                                    "3": "COMPRESSED",
                                    "4": "1029367",
                                    "5": "0",
                                    "6": "0",
                                    "7": "RESIDUAL_ROW_GROUP"
                                },
                                {
                                    "0": "Fact_PCS",
                                    "1": "pcci1",
                                    "2": "CLUSTERED COLUMNSTORE",
                                    "3": "COMPRESSED",
                                    "4": "1048576",
                                    "5": "0",
                                    "6": "0",
                                    "7": "NO_TRIM"
                                },
                                {
                                    "0": "Fact_PCS",
                                    "1": "pcci1",
                                    "2": "CLUSTERED COLUMNSTORE",
                                    "3": "COMPRESSED",
                                    "4": "1048576",
                                    "5": "0",
                                    "6": "0",
                                    "7": "NO_TRIM"
                                },
                                {
                                    "0": "Fact_PCS",
                                    "1": "pcci1",
                                    "2": "CLUSTERED COLUMNSTORE",
                                    "3": "COMPRESSED",
                                    "4": "1048576",
                                    "5": "0",
                                    "6": "0",
                                    "7": "NO_TRIM"
                                },
                                {
                                    "0": "Fact_PCS",
                                    "1": "pcci1",
                                    "2": "CLUSTERED COLUMNSTORE",
                                    "3": "COMPRESSED",
                                    "4": "1048576",
                                    "5": "0",
                                    "6": "0",
                                    "7": "NO_TRIM"
                                },
                                {
                                    "0": "Fact_PCS",
                                    "1": "pcci1",
                                    "2": "CLUSTERED COLUMNSTORE",
                                    "3": "COMPRESSED",
                                    "4": "1048576",
                                    "5": "0",
                                    "6": "0",
                                    "7": "NO_TRIM"
                                },
                                {
                                    "0": "Fact_PCS",
                                    "1": "pcci1",
                                    "2": "CLUSTERED COLUMNSTORE",
                                    "3": "COMPRESSED",
                                    "4": "1011613",
                                    "5": "0",
                                    "6": "0",
                                    "7": "RESIDUAL_ROW_GROUP"
                                },
                                {
                                    "0": "Fact_PCS",
                                    "1": "pcci1",
                                    "2": "CLUSTERED COLUMNSTORE",
                                    "3": "COMPRESSED",
                                    "4": "1048576",
                                    "5": "0",
                                    "6": "0",
                                    "7": "NO_TRIM"
                                },
                                {
                                    "0": "Fact_PCS",
                                    "1": "pcci1",
                                    "2": "CLUSTERED COLUMNSTORE",
                                    "3": "COMPRESSED",
                                    "4": "1048576",
                                    "5": "0",
                                    "6": "0",
                                    "7": "NO_TRIM"
                                },
                                {
                                    "0": "Fact_PCS",
                                    "1": "pcci1",
                                    "2": "CLUSTERED COLUMNSTORE",
                                    "3": "COMPRESSED",
                                    "4": "1048576",
                                    "5": "0",
                                    "6": "0",
                                    "7": "NO_TRIM"
                                },
                                {
                                    "0": "Fact_PCS",
                                    "1": "pcci1",
                                    "2": "CLUSTERED COLUMNSTORE",
                                    "3": "COMPRESSED",
                                    "4": "1048576",
                                    "5": "0",
                                    "6": "0",
                                    "7": "NO_TRIM"
                                },
                                {
                                    "0": "Fact_PCS",
                                    "1": "pcci1",
                                    "2": "CLUSTERED COLUMNSTORE",
                                    "3": "COMPRESSED",
                                    "4": "1048576",
                                    "5": "0",
                                    "6": "0",
                                    "7": "NO_TRIM"
                                },
                                {
                                    "0": "Fact_PCS",
                                    "1": "pcci1",
                                    "2": "CLUSTERED COLUMNSTORE",
                                    "3": "COMPRESSED",
                                    "4": "1010540",
                                    "5": "0",
                                    "6": "0",
                                    "7": "RESIDUAL_ROW_GROUP"
                                },
                                {
                                    "0": "Fact_PCS",
                                    "1": "pcci1",
                                    "2": "CLUSTERED COLUMNSTORE",
                                    "3": "COMPRESSED",
                                    "4": "1048576",
                                    "5": "0",
                                    "6": "0",
                                    "7": "NO_TRIM"
                                },
                                {
                                    "0": "Fact_PCS",
                                    "1": "pcci1",
                                    "2": "CLUSTERED COLUMNSTORE",
                                    "3": "COMPRESSED",
                                    "4": "1048576",
                                    "5": "0",
                                    "6": "0",
                                    "7": "NO_TRIM"
                                },
                                {
                                    "0": "Fact_PCS",
                                    "1": "pcci1",
                                    "2": "CLUSTERED COLUMNSTORE",
                                    "3": "COMPRESSED",
                                    "4": "1048576",
                                    "5": "0",
                                    "6": "0",
                                    "7": "NO_TRIM"
                                },
                                {
                                    "0": "Fact_PCS",
                                    "1": "pcci1",
                                    "2": "CLUSTERED COLUMNSTORE",
                                    "3": "COMPRESSED",
                                    "4": "1048576",
                                    "5": "0",
                                    "6": "0",
                                    "7": "NO_TRIM"
                                },
                                {
                                    "0": "Fact_PCS",
                                    "1": "pcci1",
                                    "2": "CLUSTERED COLUMNSTORE",
                                    "3": "COMPRESSED",
                                    "4": "1048576",
                                    "5": "0",
                                    "6": "0",
                                    "7": "NO_TRIM"
                                },
                                {
                                    "0": "Fact_PCS",
                                    "1": "pcci1",
                                    "2": "CLUSTERED COLUMNSTORE",
                                    "3": "COMPRESSED",
                                    "4": "1018107",
                                    "5": "0",
                                    "6": "0",
                                    "7": "RESIDUAL_ROW_GROUP"
                                },
                                {
                                    "0": "Fact_PCS",
                                    "1": "pcci1",
                                    "2": "CLUSTERED COLUMNSTORE",
                                    "3": "COMPRESSED",
                                    "4": "1048576",
                                    "5": "0",
                                    "6": "0",
                                    "7": "NO_TRIM"
                                },
                                {
                                    "0": "Fact_PCS",
                                    "1": "pcci1",
                                    "2": "CLUSTERED COLUMNSTORE",
                                    "3": "COMPRESSED",
                                    "4": "1048576",
                                    "5": "0",
                                    "6": "0",
                                    "7": "NO_TRIM"
                                },
                                {
                                    "0": "Fact_PCS",
                                    "1": "pcci1",
                                    "2": "CLUSTERED COLUMNSTORE",
                                    "3": "COMPRESSED",
                                    "4": "1048576",
                                    "5": "0",
                                    "6": "0",
                                    "7": "NO_TRIM"
                                },
                                {
                                    "0": "Fact_PCS",
                                    "1": "pcci1",
                                    "2": "CLUSTERED COLUMNSTORE",
                                    "3": "COMPRESSED",
                                    "4": "1048576",
                                    "5": "0",
                                    "6": "0",
                                    "7": "NO_TRIM"
                                },
                                {
                                    "0": "Fact_PCS",
                                    "1": "pcci1",
                                    "2": "CLUSTERED COLUMNSTORE",
                                    "3": "COMPRESSED",
                                    "4": "1048576",
                                    "5": "0",
                                    "6": "0",
                                    "7": "NO_TRIM"
                                },
                                {
                                    "0": "Fact_PCS",
                                    "1": "pcci1",
                                    "2": "CLUSTERED COLUMNSTORE",
                                    "3": "COMPRESSED",
                                    "4": "958853",
                                    "5": "0",
                                    "6": "0",
                                    "7": "RESIDUAL_ROW_GROUP"
                                }
                            ]
                        },
                        "text/html": "<table><tr><th>TableName</th><th>IndexName</th><th>IndexType</th><th>StateDescription</th><th>TotalRows</th><th>DeletedRows</th><th>Fragmented</th><th>TrimReason</th></tr><tr><td>Fact_CS</td><td>cci1</td><td>CLUSTERED COLUMNSTORE</td><td>COMPRESSED</td><td>834176</td><td>0</td><td>0</td><td>RESIDUAL_ROW_GROUP</td></tr><tr><td>Fact_CS</td><td>cci1</td><td>CLUSTERED COLUMNSTORE</td><td>COMPRESSED</td><td>1048576</td><td>0</td><td>0</td><td>NO_TRIM</td></tr><tr><td>Fact_CS</td><td>cci1</td><td>CLUSTERED COLUMNSTORE</td><td>COMPRESSED</td><td>1048576</td><td>0</td><td>0</td><td>NO_TRIM</td></tr><tr><td>Fact_CS</td><td>cci1</td><td>CLUSTERED COLUMNSTORE</td><td>COMPRESSED</td><td>1048576</td><td>0</td><td>0</td><td>NO_TRIM</td></tr><tr><td>Fact_CS</td><td>cci1</td><td>CLUSTERED COLUMNSTORE</td><td>COMPRESSED</td><td>1048576</td><td>0</td><td>0</td><td>NO_TRIM</td></tr><tr><td>Fact_CS</td><td>cci1</td><td>CLUSTERED COLUMNSTORE</td><td>COMPRESSED</td><td>1048576</td><td>0</td><td>0</td><td>NO_TRIM</td></tr><tr><td>Fact_CS</td><td>cci1</td><td>CLUSTERED COLUMNSTORE</td><td>COMPRESSED</td><td>1048576</td><td>0</td><td>0</td><td>NO_TRIM</td></tr><tr><td>Fact_CS</td><td>cci1</td><td>CLUSTERED COLUMNSTORE</td><td>COMPRESSED</td><td>1048576</td><td>0</td><td>0</td><td>NO_TRIM</td></tr><tr><td>Fact_CS</td><td>cci1</td><td>CLUSTERED COLUMNSTORE</td><td>COMPRESSED</td><td>1048576</td><td>0</td><td>0</td><td>NO_TRIM</td></tr><tr><td>Fact_CS</td><td>cci1</td><td>CLUSTERED COLUMNSTORE</td><td>COMPRESSED</td><td>1048576</td><td>0</td><td>0</td><td>NO_TRIM</td></tr><tr><td>Fact_CS</td><td>cci1</td><td>CLUSTERED COLUMNSTORE</td><td>COMPRESSED</td><td>1048576</td><td>0</td><td>0</td><td>NO_TRIM</td></tr><tr><td>Fact_CS</td><td>cci1</td><td>CLUSTERED COLUMNSTORE</td><td>COMPRESSED</td><td>1048576</td><td>0</td><td>0</td><td>NO_TRIM</td></tr><tr><td>Fact_CS</td><td>cci1</td><td>CLUSTERED COLUMNSTORE</td><td>COMPRESSED</td><td>1048576</td><td>0</td><td>0</td><td>NO_TRIM</td></tr><tr><td>Fact_CS</td><td>cci1</td><td>CLUSTERED COLUMNSTORE</td><td>COMPRESSED</td><td>1048576</td><td>0</td><td>0</td><td>NO_TRIM</td></tr><tr><td>Fact_CS</td><td>cci1</td><td>CLUSTERED COLUMNSTORE</td><td>COMPRESSED</td><td>1048576</td><td>0</td><td>0</td><td>NO_TRIM</td></tr><tr><td>Fact_CS</td><td>cci1</td><td>CLUSTERED COLUMNSTORE</td><td>COMPRESSED</td><td>1048576</td><td>0</td><td>0</td><td>NO_TRIM</td></tr><tr><td>Fact_CS</td><td>cci1</td><td>CLUSTERED COLUMNSTORE</td><td>COMPRESSED</td><td>1048576</td><td>0</td><td>0</td><td>NO_TRIM</td></tr><tr><td>Fact_CS</td><td>cci1</td><td>CLUSTERED COLUMNSTORE</td><td>COMPRESSED</td><td>1048576</td><td>0</td><td>0</td><td>NO_TRIM</td></tr><tr><td>Fact_CS</td><td>cci1</td><td>CLUSTERED COLUMNSTORE</td><td>COMPRESSED</td><td>1048576</td><td>0</td><td>0</td><td>NO_TRIM</td></tr><tr><td>Fact_CS</td><td>cci1</td><td>CLUSTERED COLUMNSTORE</td><td>COMPRESSED</td><td>1048576</td><td>0</td><td>0</td><td>NO_TRIM</td></tr><tr><td>Fact_CS</td><td>cci1</td><td>CLUSTERED COLUMNSTORE</td><td>COMPRESSED</td><td>1048576</td><td>0</td><td>0</td><td>NO_TRIM</td></tr><tr><td>Fact_CS</td><td>cci1</td><td>CLUSTERED COLUMNSTORE</td><td>COMPRESSED</td><td>1048576</td><td>0</td><td>0</td><td>NO_TRIM</td></tr><tr><td>Fact_CS</td><td>cci1</td><td>CLUSTERED COLUMNSTORE</td><td>COMPRESSED</td><td>1048576</td><td>0</td><td>0</td><td>NO_TRIM</td></tr><tr><td>Fact_CS</td><td>cci1</td><td>CLUSTERED COLUMNSTORE</td><td>COMPRESSED</td><td>1048576</td><td>0</td><td>0</td><td>NO_TRIM</td></tr><tr><td>Fact_CS</td><td>cci1</td><td>CLUSTERED COLUMNSTORE</td><td>COMPRESSED</td><td>1048576</td><td>0</td><td>0</td><td>NO_TRIM</td></tr><tr><td>Fact_PCS</td><td>pcci1</td><td>CLUSTERED COLUMNSTORE</td><td>COMPRESSED</td><td>1029367</td><td>0</td><td>0</td><td>RESIDUAL_ROW_GROUP</td></tr><tr><td>Fact_PCS</td><td>pcci1</td><td>CLUSTERED COLUMNSTORE</td><td>COMPRESSED</td><td>1048576</td><td>0</td><td>0</td><td>NO_TRIM</td></tr><tr><td>Fact_PCS</td><td>pcci1</td><td>CLUSTERED COLUMNSTORE</td><td>COMPRESSED</td><td>1048576</td><td>0</td><td>0</td><td>NO_TRIM</td></tr><tr><td>Fact_PCS</td><td>pcci1</td><td>CLUSTERED COLUMNSTORE</td><td>COMPRESSED</td><td>1048576</td><td>0</td><td>0</td><td>NO_TRIM</td></tr><tr><td>Fact_PCS</td><td>pcci1</td><td>CLUSTERED COLUMNSTORE</td><td>COMPRESSED</td><td>1048576</td><td>0</td><td>0</td><td>NO_TRIM</td></tr><tr><td>Fact_PCS</td><td>pcci1</td><td>CLUSTERED COLUMNSTORE</td><td>COMPRESSED</td><td>1048576</td><td>0</td><td>0</td><td>NO_TRIM</td></tr><tr><td>Fact_PCS</td><td>pcci1</td><td>CLUSTERED COLUMNSTORE</td><td>COMPRESSED</td><td>1011613</td><td>0</td><td>0</td><td>RESIDUAL_ROW_GROUP</td></tr><tr><td>Fact_PCS</td><td>pcci1</td><td>CLUSTERED COLUMNSTORE</td><td>COMPRESSED</td><td>1048576</td><td>0</td><td>0</td><td>NO_TRIM</td></tr><tr><td>Fact_PCS</td><td>pcci1</td><td>CLUSTERED COLUMNSTORE</td><td>COMPRESSED</td><td>1048576</td><td>0</td><td>0</td><td>NO_TRIM</td></tr><tr><td>Fact_PCS</td><td>pcci1</td><td>CLUSTERED COLUMNSTORE</td><td>COMPRESSED</td><td>1048576</td><td>0</td><td>0</td><td>NO_TRIM</td></tr><tr><td>Fact_PCS</td><td>pcci1</td><td>CLUSTERED COLUMNSTORE</td><td>COMPRESSED</td><td>1048576</td><td>0</td><td>0</td><td>NO_TRIM</td></tr><tr><td>Fact_PCS</td><td>pcci1</td><td>CLUSTERED COLUMNSTORE</td><td>COMPRESSED</td><td>1048576</td><td>0</td><td>0</td><td>NO_TRIM</td></tr><tr><td>Fact_PCS</td><td>pcci1</td><td>CLUSTERED COLUMNSTORE</td><td>COMPRESSED</td><td>1010540</td><td>0</td><td>0</td><td>RESIDUAL_ROW_GROUP</td></tr><tr><td>Fact_PCS</td><td>pcci1</td><td>CLUSTERED COLUMNSTORE</td><td>COMPRESSED</td><td>1048576</td><td>0</td><td>0</td><td>NO_TRIM</td></tr><tr><td>Fact_PCS</td><td>pcci1</td><td>CLUSTERED COLUMNSTORE</td><td>COMPRESSED</td><td>1048576</td><td>0</td><td>0</td><td>NO_TRIM</td></tr><tr><td>Fact_PCS</td><td>pcci1</td><td>CLUSTERED COLUMNSTORE</td><td>COMPRESSED</td><td>1048576</td><td>0</td><td>0</td><td>NO_TRIM</td></tr><tr><td>Fact_PCS</td><td>pcci1</td><td>CLUSTERED COLUMNSTORE</td><td>COMPRESSED</td><td>1048576</td><td>0</td><td>0</td><td>NO_TRIM</td></tr><tr><td>Fact_PCS</td><td>pcci1</td><td>CLUSTERED COLUMNSTORE</td><td>COMPRESSED</td><td>1048576</td><td>0</td><td>0</td><td>NO_TRIM</td></tr><tr><td>Fact_PCS</td><td>pcci1</td><td>CLUSTERED COLUMNSTORE</td><td>COMPRESSED</td><td>1018107</td><td>0</td><td>0</td><td>RESIDUAL_ROW_GROUP</td></tr><tr><td>Fact_PCS</td><td>pcci1</td><td>CLUSTERED COLUMNSTORE</td><td>COMPRESSED</td><td>1048576</td><td>0</td><td>0</td><td>NO_TRIM</td></tr><tr><td>Fact_PCS</td><td>pcci1</td><td>CLUSTERED COLUMNSTORE</td><td>COMPRESSED</td><td>1048576</td><td>0</td><td>0</td><td>NO_TRIM</td></tr><tr><td>Fact_PCS</td><td>pcci1</td><td>CLUSTERED COLUMNSTORE</td><td>COMPRESSED</td><td>1048576</td><td>0</td><td>0</td><td>NO_TRIM</td></tr><tr><td>Fact_PCS</td><td>pcci1</td><td>CLUSTERED COLUMNSTORE</td><td>COMPRESSED</td><td>1048576</td><td>0</td><td>0</td><td>NO_TRIM</td></tr><tr><td>Fact_PCS</td><td>pcci1</td><td>CLUSTERED COLUMNSTORE</td><td>COMPRESSED</td><td>1048576</td><td>0</td><td>0</td><td>NO_TRIM</td></tr><tr><td>Fact_PCS</td><td>pcci1</td><td>CLUSTERED COLUMNSTORE</td><td>COMPRESSED</td><td>958853</td><td>0</td><td>0</td><td>RESIDUAL_ROW_GROUP</td></tr></table>"
                    },
                    "metadata": {}
                }
            ],
            "execution_count": 19
        },
        {
            "cell_type": "code",
            "source": [
                "-- REORGANIZE\r\n",
                "ALTER INDEX cci1 ON dbo.Fact_CS REORGANIZE;\r\n",
                "GO\r\n",
                "ALTER INDEX pcci1 ON dbo.Fact_PCS REORGANIZE;\r\n",
                "GO\r\n",
                ""
            ],
            "metadata": {
                "azdata_cell_guid": "603aa106-910a-4d80-b3a9-cbcfc0cc32bc",
                "tags": [
                    "hide_input"
                ]
            },
            "outputs": [
                {
                    "output_type": "display_data",
                    "data": {
                        "text/html": "Commands completed successfully."
                    },
                    "metadata": {}
                },
                {
                    "output_type": "display_data",
                    "data": {
                        "text/html": "Commands completed successfully."
                    },
                    "metadata": {}
                },
                {
                    "output_type": "display_data",
                    "data": {
                        "text/html": "Total execution time: 00:01:34.508"
                    },
                    "metadata": {}
                }
            ],
            "execution_count": 14
        },
        {
            "cell_type": "code",
            "source": [
                "-- REORGANIZE COMPRESS_ALL_ROW_GROUPS\r\n",
                "ALTER INDEX cci1 ON dbo.Fact_CS REORGANIZE\r\n",
                "WITH (COMPRESS_ALL_ROW_GROUPS = ON);\r\n",
                "GO\r\n",
                "ALTER INDEX pcci1 ON dbo.Fact_PCS REORGANIZE\r\n",
                "WITH (COMPRESS_ALL_ROW_GROUPS = ON);\r\n",
                "GO\r\n",
                ""
            ],
            "metadata": {
                "azdata_cell_guid": "6149296f-adda-4912-a288-b381d840e581",
                "tags": [
                    "hide_input"
                ]
            },
            "outputs": [
                {
                    "output_type": "display_data",
                    "data": {
                        "text/html": "Commands completed successfully."
                    },
                    "metadata": {}
                },
                {
                    "output_type": "display_data",
                    "data": {
                        "text/html": "Commands completed successfully."
                    },
                    "metadata": {}
                },
                {
                    "output_type": "display_data",
                    "data": {
                        "text/html": "Total execution time: 00:00:21.405"
                    },
                    "metadata": {}
                }
            ],
            "execution_count": 16
        },
        {
            "cell_type": "code",
            "source": [
                "-- REBUILD\r\n",
                "ALTER INDEX cci1 ON dbo.Fact_CS REBUILD\r\n",
                "WITH (MAXDOP = 1);\r\n",
                "GO\r\n",
                "ALTER INDEX pcci1 ON dbo.Fact_PCS REBUILD\r\n",
                "WITH (MAXDOP = 1);\r\n",
                "GO"
            ],
            "metadata": {
                "azdata_cell_guid": "88677065-d131-4148-b4a2-d8d9517133c7",
                "tags": [
                    "hide_input"
                ]
            },
            "outputs": [
                {
                    "output_type": "display_data",
                    "data": {
                        "text/html": "Commands completed successfully."
                    },
                    "metadata": {}
                },
                {
                    "output_type": "display_data",
                    "data": {
                        "text/html": "Commands completed successfully."
                    },
                    "metadata": {}
                },
                {
                    "output_type": "display_data",
                    "data": {
                        "text/html": "Total execution time: 00:18:25.139"
                    },
                    "metadata": {}
                }
            ],
            "execution_count": 18
        },
        {
            "cell_type": "markdown",
            "source": [
                "Check compression"
            ],
            "metadata": {
                "azdata_cell_guid": "16d52009-3a43-4c27-a1ce-3dcebab7cb18"
            },
            "attachments": {}
        },
        {
            "cell_type": "code",
            "source": [
                "SELECT OBJECT_NAME(object_id) AS [ObjectName], \r\n",
                "SUM(Rows) AS [RowCount], data_compression_desc AS [CompressionType]\r\n",
                "FROM sys.partitions WITH (NOLOCK)\r\n",
                "WHERE index_id < 2 --ignore the partitions from the non-clustered index if any\r\n",
                "AND OBJECT_NAME(object_id) NOT LIKE N'sys%'\r\n",
                "AND OBJECT_NAME(object_id) NOT LIKE N'queue_%' \r\n",
                "AND OBJECT_NAME(object_id) NOT LIKE N'filestream_tombstone%' \r\n",
                "AND OBJECT_NAME(object_id) NOT LIKE N'fulltext%'\r\n",
                "AND OBJECT_NAME(object_id) NOT LIKE N'ifts_comp_fragment%'\r\n",
                "AND OBJECT_NAME(object_id) NOT LIKE N'filetable_updates%'\r\n",
                "AND OBJECT_NAME(object_id) NOT LIKE N'xml_index_nodes%'\r\n",
                "AND OBJECT_NAME(object_id) NOT LIKE N'sqlagent_job%'  \r\n",
                "AND OBJECT_NAME(object_id) NOT LIKE N'plan_persist%'  \r\n",
                "GROUP BY object_id, data_compression_desc\r\n",
                "ORDER BY SUM(Rows) DESC OPTION (RECOMPILE);\r\n",
                "------\r\n",
                "------\r\n",
                ""
            ],
            "metadata": {
                "azdata_cell_guid": "d3962ef0-8884-46b3-9734-27a80fc291ed",
                "tags": [
                    "hide_input"
                ]
            },
            "outputs": [],
            "execution_count": null
        },
        {
            "cell_type": "markdown",
            "source": [
                "Check partitioning"
            ],
            "metadata": {
                "azdata_cell_guid": "845d402d-58d5-4f74-9ef8-80c95885a793"
            },
            "attachments": {}
        },
        {
            "cell_type": "code",
            "source": [
                "CREATE VIEW Partition_Info\r\n",
                "AS\r\n",
                "    SELECT  OBJECT_NAME(i.object_id) AS Object_Name ,\r\n",
                "            i.index_id AS [Index_ID] ,\r\n",
                "            p.partition_number ,\r\n",
                "            fg.name AS Filegroup_Name ,\r\n",
                "            p.rows ,\r\n",
                "            au.total_pages ,\r\n",
                "            f.name AS PartitionScheme ,\r\n",
                "            CASE f.boundary_value_on_right\r\n",
                "              WHEN 1 THEN 'less than'\r\n",
                "              ELSE 'less than or equal to'\r\n",
                "            END AS 'comparison' ,\r\n",
                "            rv.value\r\n",
                "    FROM    sys.partitions p\r\n",
                "            JOIN sys.indexes i ON p.object_id = i.object_id\r\n",
                "                                  AND p.index_id = i.index_id\r\n",
                "            JOIN sys.partition_schemes ps ON ps.data_space_id = i.data_space_id\r\n",
                "            JOIN sys.partition_functions f ON f.function_id = ps.function_id\r\n",
                "            LEFT JOIN sys.partition_range_values rv ON f.function_id = rv.function_id\r\n",
                "                                                       AND p.partition_number = rv.boundary_id\r\n",
                "            JOIN sys.destination_data_spaces dds ON dds.partition_scheme_id = ps.data_space_id\r\n",
                "                                                    AND dds.destination_id = p.partition_number\r\n",
                "            JOIN sys.filegroups fg ON dds.data_space_id = fg.data_space_id\r\n",
                "            JOIN ( SELECT   container_id ,\r\n",
                "                            SUM(total_pages) AS total_pages\r\n",
                "                   FROM     sys.allocation_units\r\n",
                "                   GROUP BY container_id\r\n",
                "                 ) AS au ON au.container_id = p.partition_id\r\n",
                "    WHERE   i.index_id < 2 ;\r\n",
                "     \r\n",
                "GO"
            ],
            "metadata": {
                "azdata_cell_guid": "d523559a-e8d2-4a71-bd9c-9b40e2a8f584",
                "tags": [
                    "hide_input"
                ]
            },
            "outputs": [],
            "execution_count": null
        },
        {
            "cell_type": "code",
            "source": [
                "SELECT  * FROM    Partition_Info ORDER BY 1 ,3"
            ],
            "metadata": {
                "azdata_cell_guid": "1dbcaf58-de49-45c8-8cb9-dffee9c4168a",
                "tags": [
                    "hide_input"
                ]
            },
            "outputs": [],
            "execution_count": null
        },
        {
            "cell_type": "markdown",
            "source": [
                "Data\\_Modifications"
            ],
            "metadata": {
                "azdata_cell_guid": "cc385728-c1e3-4993-8902-84c73e8fe166"
            },
            "attachments": {}
        },
        {
            "cell_type": "code",
            "source": [
                "-- Let's checkout our rowgroups.\r\n",
                "SELECT  object_name(i.object_id) AS TableName,   \r\n",
                "\t\ti.name AS IndexName,   \r\n",
                "\t\ti.type_desc AS IndexType,   \r\n",
                "\t\trg.state_desc AS StateDescription,\r\n",
                "\t\trg.total_rows AS TotalRows,\r\n",
                "\t\trg.deleted_rows AS DeletedRows,\r\n",
                "\t\trg.trim_reason_desc AS TrimReason\r\n",
                "FROM [sys].[indexes] AS i  \r\n",
                "JOIN [sys].[dm_db_column_store_row_group_physical_stats] AS rg  \r\n",
                "    ON i.object_id = rg.object_id AND i.index_id = rg.index_id\r\n",
                "\tWHERE i.name like '%cci1';\r\n",
                "GO\r\n",
                "\r\n",
                ""
            ],
            "metadata": {
                "azdata_cell_guid": "08479793-8725-4b81-9e78-f240f68d808d",
                "tags": [
                    "hide_input"
                ]
            },
            "outputs": [],
            "execution_count": null
        },
        {
            "cell_type": "code",
            "source": [
                "-- Let's insert some data.\r\n",
                "INSERT [dbo].[Fact_CS]\r\n",
                "SELECT top 1000000 [Dim1Id],\r\n",
                "\t[Dim2Id] ,\r\n",
                "\t[Dim3Id] ,\r\n",
                "\t[Dim4Id] ,\r\n",
                "\t[Dim5Id] ,\r\n",
                "\t[Dim6Id] ,\r\n",
                "\t[Dim7Id] ,\r\n",
                "\t[Dim8Id] ,\r\n",
                "\t[Dim9Id] ,\r\n",
                "\t[Dim10Id] ,\r\n",
                "\t[Measure1] ,\r\n",
                "\t[Measure2] ,\r\n",
                "\t[Measure3] ,\r\n",
                "\t[Measure4] ,\r\n",
                "\t[Measure5] ,\r\n",
                "\t[Date1] ,\r\n",
                "\t[Date2] ,\r\n",
                "\t[Date3] \r\n",
                "\tfrom [dbo].[Fact]\r\n",
                "\torder by [Date2]\r\n",
                "\r\n",
                "INSERT [dbo].[Fact_PCS]\r\n",
                "SELECT top 1000000 [Dim1Id],\r\n",
                "\t[Dim2Id] ,\r\n",
                "\t[Dim3Id] ,\r\n",
                "\t[Dim4Id] ,\r\n",
                "\t[Dim5Id] ,\r\n",
                "\t[Dim6Id] ,\r\n",
                "\t[Dim7Id] ,\r\n",
                "\t[Dim8Id] ,\r\n",
                "\t[Dim9Id] ,\r\n",
                "\t[Dim10Id] ,\r\n",
                "\t[Measure1] ,\r\n",
                "\t[Measure2] ,\r\n",
                "\t[Measure3] ,\r\n",
                "\t[Measure4] ,\r\n",
                "\t[Measure5] ,\r\n",
                "\t[Date1] ,\r\n",
                "\t[Date2] ,\r\n",
                "\t[Date3] \r\n",
                "\tfrom [dbo].[Fact]\r\n",
                "\torder by [Date2]"
            ],
            "metadata": {
                "azdata_cell_guid": "a95fc88d-cb0e-46ff-b391-2dd3ae7b98d8",
                "tags": [
                    "hide_input"
                ]
            },
            "outputs": [],
            "execution_count": null
        },
        {
            "cell_type": "code",
            "source": [
                "-- Let's checkout our rowgroups.\r\n",
                "SELECT  object_name(i.object_id) AS TableName,   \r\n",
                "\t\ti.name AS IndexName,   \r\n",
                "\t\ti.type_desc AS IndexType,   \r\n",
                "\t\trg.state_desc AS StateDescription,\r\n",
                "\t\trg.total_rows AS TotalRows,\r\n",
                "\t\trg.deleted_rows AS DeletedRows,\r\n",
                "\t\trg.trim_reason_desc AS TrimReason\r\n",
                "FROM [sys].[indexes] AS i  \r\n",
                "JOIN [sys].[dm_db_column_store_row_group_physical_stats] AS rg  \r\n",
                "    ON i.object_id = rg.object_id AND i.index_id = rg.index_id\r\n",
                "\tWHERE i.name like '%cci1';\r\n",
                "GO\r\n",
                ""
            ],
            "metadata": {
                "azdata_cell_guid": "8e30f893-c8f3-46dc-9678-af58b458471e",
                "tags": [
                    "hide_input"
                ]
            },
            "outputs": [],
            "execution_count": null
        },
        {
            "cell_type": "code",
            "source": [
                "-- Now let's update some data.\r\n",
                "\r\n",
                "UPDATE [dbo].[Fact_CS]\r\n",
                "SET [Dim3Id] = 52\r\n",
                "WHERE [Dim3Id] = 48;\r\n",
                "GO\r\n",
                "UPDATE [dbo].[Fact_PCS]\r\n",
                "SET [Dim3Id] = 52\r\n",
                "WHERE [Dim3Id] = 48;\r\n",
                "GO"
            ],
            "metadata": {
                "azdata_cell_guid": "f52a9ff8-0bd0-45f0-bb00-731dbcecb65e",
                "tags": []
            },
            "outputs": [
                {
                    "output_type": "display_data",
                    "data": {
                        "text/html": "(0 rows affected)"
                    },
                    "metadata": {}
                },
                {
                    "output_type": "display_data",
                    "data": {
                        "text/html": "(0 rows affected)"
                    },
                    "metadata": {}
                },
                {
                    "output_type": "display_data",
                    "data": {
                        "text/html": "Total execution time: 00:00:02.908"
                    },
                    "metadata": {}
                }
            ],
            "execution_count": 20
        },
        {
            "cell_type": "code",
            "source": [
                "-- Let's checkout our rowgroups.\r\n",
                "SELECT  object_name(i.object_id) AS TableName,   \r\n",
                "\t\ti.name AS IndexName,   \r\n",
                "\t\ti.type_desc AS IndexType,   \r\n",
                "\t\trg.state_desc AS StateDescription,\r\n",
                "\t\trg.total_rows AS TotalRows,\r\n",
                "\t\trg.deleted_rows AS DeletedRows,\r\n",
                "\t\trg.trim_reason_desc AS TrimReason\r\n",
                "FROM [sys].[indexes] AS i  \r\n",
                "JOIN [sys].[dm_db_column_store_row_group_physical_stats] AS rg  \r\n",
                "    ON i.object_id = rg.object_id AND i.index_id = rg.index_id\r\n",
                "\tWHERE i.name like '%cci1';\r\n",
                "GO"
            ],
            "metadata": {
                "azdata_cell_guid": "5879db9e-1e38-4b1e-a67e-b664b5a2ac89",
                "tags": [
                    "hide_input"
                ]
            },
            "outputs": [],
            "execution_count": null
        },
        {
            "cell_type": "code",
            "source": [
                "-- Let's find out or min and max Id.\r\n",
                "SELECT\tMAX(Id) AS MaxId, \r\n",
                "\t\tMIN(Id) AS MinId \r\n",
                "FROM Sales.SalesOrder_PCS;\r\n",
                "GO\r\n",
                "\r\n",
                "\r\n",
                "\r\n",
                "\r\n",
                "-- This will delete 1000 rows.\r\n",
                "-- 500 will come from the delta store.\r\n",
                "-- 500 will be marked as deleted\r\n",
                "DELETE FROM Sales.SalesOrder_PCS\r\n",
                "WHERE Id > 23800000;\r\n",
                "GO"
            ],
            "metadata": {
                "azdata_cell_guid": "c4545b64-bc81-43aa-8438-569b7504ac2e",
                "tags": [
                    "hide_input"
                ]
            },
            "outputs": [],
            "execution_count": null
        },
        {
            "cell_type": "code",
            "source": [
                "-- Let's look at the deleted buffer.\r\n",
                "SELECT  object_name(i.object_id) AS TableName,\r\n",
                "\t\ti.[name] AS IndexName, \r\n",
                "\t\tp.[internal_object_type_desc] AS [Description],\r\n",
                "\t\tp.[rows] AS [RowCount], \r\n",
                "\t\tp.[data_compression_desc] AS [CompressionType]\r\n",
                "FROM [sys].[internal_partitions] AS p\r\n",
                "\tJOIN [sys].[indexes] AS i ON p.[object_id] = i.[object_id] \r\n",
                "\tAND p.[index_id] = i.[index_id]\r\n",
                "WHERE i.[name] like '%cci1';\r\n",
                "GO"
            ],
            "metadata": {
                "azdata_cell_guid": "1541e98d-b0a2-4172-b2ed-7f78971d183d",
                "tags": [
                    "hide_input"
                ]
            },
            "outputs": [],
            "execution_count": null
        },
        {
            "cell_type": "markdown",
            "source": [
                "Check"
            ],
            "metadata": {
                "azdata_cell_guid": "5376d82f-a7a8-41b5-b710-6d49f751d38e"
            },
            "attachments": {}
        },
        {
            "cell_type": "code",
            "source": [
                "-- Let's look at the deleted buffer.\r\n",
                "SELECT  object_name(i.object_id) AS TableName,\r\n",
                "\t\ti.[name] AS IndexName, \r\n",
                "\t\tp.[internal_object_type_desc] AS [Description],\r\n",
                "\t\tp.[rows] AS [RowCount], \r\n",
                "\t\tp.[data_compression_desc] AS [CompressionType]\r\n",
                "FROM [sys].[internal_partitions] AS p\r\n",
                "INNER JOIN [sys].[indexes] AS i ON p.[object_id] = i.[object_id] \r\n",
                "\tAND p.[index_id] = i.[index_id]\r\n",
                "WHERE i.[name] = 'pcci1';\r\n",
                "GO\r\n",
                "\r\n",
                "-- Let's checkout our rowgroups.\r\n",
                "SELECT  object_name(i.object_id) AS TableName,   \r\n",
                "\t\ti.name AS IndexName,   \r\n",
                "\t\ti.type_desc AS IndexType,   \r\n",
                "\t\trg.state_desc AS StateDescription,\r\n",
                "\t\trg.total_rows AS TotalRows,\r\n",
                "\t\trg.deleted_rows AS DeletedRows,\r\n",
                "\t\t100*(ISNULL(deleted_rows,0))/NULLIF(total_rows,0) AS Fragmented,\r\n",
                "\t\trg.trim_reason_desc AS TrimReason\r\n",
                "FROM [sys].[indexes] AS i  \r\n",
                "JOIN [sys].[dm_db_column_store_row_group_physical_stats] AS rg  \r\n",
                "    ON i.object_id = rg.object_id AND i.index_id = rg.index_id\r\n",
                "\tWHERE i.name = 'pcci1';\r\n",
                "GO"
            ],
            "metadata": {
                "azdata_cell_guid": "1a922461-f0ac-4641-86a6-62037875d487",
                "tags": [
                    "hide_input"
                ]
            },
            "outputs": [],
            "execution_count": null
        }
    ]
}